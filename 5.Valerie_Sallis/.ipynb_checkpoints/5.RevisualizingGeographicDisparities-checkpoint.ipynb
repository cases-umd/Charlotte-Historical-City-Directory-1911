{
 "cells": [
  {
   "cell_type": "markdown",
   "id": "limited-steal",
   "metadata": {},
   "source": [
    "# Revisualizing Geographic Disparities:\n",
    "### Examining Trends in Racial and Economic Inequality on Charlotte Streets without GIS"
   ]
  },
  {
   "cell_type": "markdown",
   "id": "united-usage",
   "metadata": {},
   "source": [
    "* Creator: Valerie Sallis   \n",
    "* Source Available: https://archive.org/details/charlottenorthca1911pied\n",
    "* License: [Creative Commons - Attribute 4.0 Intl](https://creativecommons.org/licenses/by/4.0/)\n",
    "* Attribution: This work is based upon digital assignments completed by UMD Students in INST742: Implementing Digital Curation"
   ]
  },
  {
   "cell_type": "markdown",
   "id": "e83b66d7-e55b-448b-8b51-eb1c8f35f18d",
   "metadata": {
    "tags": []
   },
   "source": [
    "## 5. Revisualizing Geographic Disparities: Examining Trends in Racial and Economic Inequality on the Streets w/o GIS:\n",
    "* **Author:** Valerie Sallis\n",
    "* **Abstract:** Examining racial disparities in key areas of Charlotte, using faceted clustering of types of homes.\n",
    "* **Dataset:** Full datified Directory (16,000 entries), 1911 Sanborn map, 1910 Census\n",
    "* **Tools:** Excel, OpenRefine, Tableau\n",
    "* **Video:** https://youtu.be/hyeYfOKnFBs (9′ 57″)"
   ]
  },
  {
   "cell_type": "markdown",
   "id": "multiple-coordination",
   "metadata": {},
   "source": [
    "<h3> Computational Thinking </h3>\n",
    "    "
   ]
  },
  {
   "cell_type": "markdown",
   "id": "imported-relaxation",
   "metadata": {},
   "source": [
    "This exercise utilizes the following elements of computational thinking: \n",
    "\n",
    "Data Practices:\n",
    "<ul>\n",
    "    <li>Manipulating data</li>\n",
    "    <li>Analyzing data</li>\n",
    "    <li>Visualizing data</li>\n",
    "</ul>\n",
    "Modeling and Simulation Practices:\n",
    "<ul>\n",
    "    <li>Using computational models to understand a concept</li>\n",
    "</ul>\n",
    "Computational Problem Solving Practices:\n",
    "<ul>\n",
    "    <li>Preparing Problems for Computational Solutions</li>\n",
    "    <li>Assessing Different Approaches/Solutions to a Problem</li>\n",
    "</ul>\n",
    "Systems Thinking Practices:\n",
    "<ul>\n",
    "    <li>Understanding relationships within systems</li>\n",
    "    <li>Thinking in levels</li>\n"
   ]
  },
  {
   "cell_type": "markdown",
   "id": "increasing-calcium",
   "metadata": {},
   "source": [
    "<h3>Overview of the Project</h3>"
   ]
  },
  {
   "cell_type": "markdown",
   "id": "french-jewelry",
   "metadata": {},
   "source": [
    "This project examines the racial and economic disparities on several of the most populous streets in Charlotte in 1911 using simple database manipulation techniques in OpenRefine and Excel and visual graphs created in Tableau Public. The purpose behind this method is to find alternative methods for analyzing geographic data using free database and visualization tools that may be easier to access for a single researcher or a small institution. While GIS software is a powerful tool and would be a natural choice for analyzing geographic disparities in data, not all institutions may have staff who are trained or feel confident using GIS software, as licenses for GIS programs with robust user interfaces and technical support like ArcGIS can be expensive and open-source programs like QGIS require signficant start up knowledge or self-education. \n",
    "\n",
    "Charlotte makes an interesting candidate for geographic analysis because it has an unorthodox layout. The historic area is designed on a grid, however the grid does not follow a N/S axis. Rather the grid sits on a skewed axis formed by the intersection of Tryon St and Trade St as seen in this Sanborn Fire Insurance map from 1911. This project attempts to find patterns in the data in terms of racial makeup and economic equality using the Tryon St/Trade St axis as the pivot point for analysis.\n",
    "\n",
    "![Charlotte 1911 Sanborn Map](Images/charlotteSanborn1911downtownaxis.jpg)\n",
    "\n",
    "</u>"
   ]
  },
  {
   "cell_type": "markdown",
   "id": "ahead-feeling",
   "metadata": {},
   "source": [
    "<h3>Objectives</h3>"
   ]
  },
  {
   "cell_type": "markdown",
   "id": "atlantic-pride",
   "metadata": {},
   "source": [
    "<ol>\n",
    "    <li>Examine how racial and economic inequities were concentrated geographically in Charlotte in 1911. </li>\n",
    "    <li>Use simple data manipulation and cleaning techniques that would be accessible to researchers/library and arhival staff with minimal database training using OpenRefine and Excel.</li>\n",
    "    <li>Explore options for visualizing data with free software like Tableau Public. </li>"
   ]
  },
  {
   "cell_type": "markdown",
   "id": "sublime-scholar",
   "metadata": {},
   "source": [
    "<h3>Notebooks</h3>"
   ]
  },
  {
   "cell_type": "markdown",
   "id": "essential-humanitarian",
   "metadata": {},
   "source": [
    "1. [Data Manipulation](DataManipulation.ipynb) \n",
    "2. [Visualization Methods](Visualization.ipynb)\n",
    "3. [Revisualizing Charlotte 1911](RevisualizingCharlotte.ipynb)\n",
    "\n",
    "Next: [Data Manipulation](DataManipulation.ipynb)"
   ]
  }
 ],
 "metadata": {
  "kernelspec": {
   "display_name": "Python 3 (ipykernel)",
   "language": "python",
   "name": "python3"
  },
  "language_info": {
   "codemirror_mode": {
    "name": "ipython",
    "version": 3
   },
   "file_extension": ".py",
   "mimetype": "text/x-python",
   "name": "python",
   "nbconvert_exporter": "python",
   "pygments_lexer": "ipython3",
   "version": "3.11.5"
  }
 },
 "nbformat": 4,
 "nbformat_minor": 5
}
