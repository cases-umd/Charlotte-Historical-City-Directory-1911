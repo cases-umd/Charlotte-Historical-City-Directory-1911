{
 "cells": [
  {
   "cell_type": "markdown",
   "id": "incredible-foster",
   "metadata": {},
   "source": [
    "## Data Manipulation\n",
    "\n",
    "This project uses a few basic manipulations in OpenRefine and Excel to find the most populous streets in Charlotte in 1911 and to add columns for street direction and city quadrant to the data for those streets so that it can be used to perform geographic analysis and visualization of the racial and economic data for the selected area. (The base data used for this project is a consolidated Excel file for the entire Charlotte 1911 City Directory provided by the instructor of INST 742, Dr. Richard Marciano.) \n",
    "\n",
    "### OpenRefine\n",
    "![Open Refine Faceting](Images/OpenRefineFacet.jpg)\n",
    "\n",
    "OpenRefine (formerly GoogleRefine) is an open source data cleaning and tranformation tool. OpenRefine uses an interface that resembles a traditional spreadsheet while offering powerful database manipulation capabilities. While knowledge of GREL (Google Refine Expression Language) is useful, it is not required as many command lists exist that new users can draw on, like this example: [Regex](https://www.computerhope.com/jargon/r/regex.htm)   \n",
    "\n",
    "1.**Using Faceting**\n",
    "In order to determine the most populous streets in Charlotte in 1911, the housing column was faceted using word faceting, and then ranked by count to find the most frequently entered street names. \n",
    "\n",
    "![Word Faceting](Images/OpenRefineFacet2.jpg)\n",
    "\n",
    "In 1911, Tryon St was the most frequently named street of residence for Charlotte. However, since Tryon St forms part of the main axis, it was not selected for this study. After Tryon St, 7th St was one of the most heavily populated street in the City Directory. Three other streets with large populations that were roughly the same distance from the center of the axis with roughly the same population numbers as 7th St were chosen for this study: Graham St, Davidson St, and 2nd St.\n",
    "\n",
    "![Google Maps](Images/GoogleMapsfinal.jpg)\n",
    "\n",
    "For each street, the facet showing the street name was selected, and then for those filtered results, a secondary word facet was added to the housing column to be able to select records on those streets by street direction (E/W, N/S). \n",
    "\n",
    "![Word Faceting](Images/OpenRefine2ndWordFacet.jpg)\n",
    "\n",
    "2.**Adding a New Column**.\n",
    "For each street, a new column was added for Street Direction that initally copied the value from the housing column. \n",
    "\n",
    "![Add Column](Images/OpenRefineAddColumn.jpg)\n",
    "\n",
    "3.**Transforming Cells** \n",
    "There are probably much more elegant ways to do this using GREL, but since the purpose of this project is to show methods accessible to beginners, a rather \"brute force\" but effective transformation was made that substituted the appropriate directional word for any characters in the new \"Street Direction\" column depending on what street direction facet was selected. \n",
    "![Cell Transformation](Images/OpenRefineCellTransform.jpg)"
   ]
  },
  {
   "cell_type": "markdown",
   "id": "iraqi-imagination",
   "metadata": {},
   "source": [
    "The resulting spreadsheets for each street were then exported to Excel. The excess words in the Street Direction column for each sheet were removed using bulk fill functions in Excel (dragging down a single value to fill below) and then a new column for City Quadrant was added to each sheet with the quadrant of the city determined by looking at the map of Charlotte based on the direction of that street (N,S,E,W), and finding whether that portion of the street was NE, NW, SE, or SW of the Tryon St and Trade St axis.  \n",
    "\n",
    "![City Quadrants](Images/CityQuadrants.jpg)\n",
    "\n",
    "![Cell Transformation](Images/ExcelQuadrantcolumn.jpg)\n",
    "\n",
    "One spreadsheet was then created containing the data for all of the four streets. This master spreadsheet and the single sheet spreadsheets for 2nd and 7th Sts were used to create visualizations in Tableau, as will be seen in the next notebook.\n",
    "\n",
    "![Cell Transformation](Images/ExcelFinalspreadsheet.jpg) "
   ]
  },
  {
   "cell_type": "markdown",
   "id": "lined-northwest",
   "metadata": {},
   "source": [
    "JSON code for all the data manipulations performed in OpenRefine can be found here. [JSON](Images/history.json) "
   ]
  },
  {
   "cell_type": "markdown",
   "id": "ruled-likelihood",
   "metadata": {},
   "source": []
  },
  {
   "cell_type": "markdown",
   "id": "hairy-light",
   "metadata": {},
   "source": [
    "Next: [Visualization](Visualization.ipynb)"
   ]
  },
  {
   "cell_type": "code",
   "execution_count": null,
   "id": "proof-freight",
   "metadata": {},
   "outputs": [],
   "source": []
  },
  {
   "cell_type": "code",
   "execution_count": null,
   "id": "gothic-champagne",
   "metadata": {},
   "outputs": [],
   "source": []
  }
 ],
 "metadata": {
  "kernelspec": {
   "display_name": "Python 3",
   "language": "python",
   "name": "python3"
  },
  "language_info": {
   "codemirror_mode": {
    "name": "ipython",
    "version": 3
   },
   "file_extension": ".py",
   "mimetype": "text/x-python",
   "name": "python",
   "nbconvert_exporter": "python",
   "pygments_lexer": "ipython3",
   "version": "3.8.6"
  },
  "toc-autonumbering": false,
  "toc-showcode": false,
  "toc-showmarkdowntxt": false
 },
 "nbformat": 4,
 "nbformat_minor": 5
}
