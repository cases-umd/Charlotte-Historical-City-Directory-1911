{
 "cells": [
  {
   "cell_type": "markdown",
   "id": "generic-muscle",
   "metadata": {},
   "source": [
    "<h2> Revisualizing Charlotte: Viewing Racial Inequity Geographically without GIS </h2>\n"
   ]
  },
  {
   "cell_type": "markdown",
   "id": "opposed-cement",
   "metadata": {},
   "source": [
    "### Summary of Findings"
   ]
  },
  {
   "cell_type": "markdown",
   "id": "unique-controversy",
   "metadata": {},
   "source": [
    "![Charlotte 1911 Sanborn Map](Images/charlotteSanborn1911downtownaxis.jpg)\n",
    "\n",
    "Using Tableau Public to visualize the cleaned Charlotte 1911 data for 2nd, 7th, Graham, and Davidson Streets based on street direction and city quadrant by total population, numbers of businesses, and race revealed stark patterns in racial demographics and economic disparities by geographic location in the city.\n"
   ]
  },
  {
   "cell_type": "markdown",
   "id": "quick-rescue",
   "metadata": {},
   "source": [
    "<div class='tableauPlaceholder' id='viz1683846144892' style='position: relative'><noscript><a href='#'><img alt='Dashboard 1 ' src='https:&#47;&#47;public.tableau.com&#47;static&#47;images&#47;Ch&#47;Charlotte1911RacialandEconomicDisparitiesbyGeographicDistributionDashboard&#47;Dashboard1&#47;1_rss.png' style='border: none' /></a></noscript><object class='tableauViz'  style='display:none;'><param name='host_url' value='https%3A%2F%2Fpublic.tableau.com%2F' /> <param name='embed_code_version' value='3' /> <param name='site_root' value='' /><param name='name' value='Charlotte1911RacialandEconomicDisparitiesbyGeographicDistributionDashboard&#47;Dashboard1' /><param name='tabs' value='no' /><param name='toolbar' value='yes' /><param name='static_image' value='https:&#47;&#47;public.tableau.com&#47;static&#47;images&#47;Ch&#47;Charlotte1911RacialandEconomicDisparitiesbyGeographicDistributionDashboard&#47;Dashboard1&#47;1.png' /> <param name='animate_transition' value='yes' /><param name='display_static_image' value='yes' /><param name='display_spinner' value='yes' /><param name='display_overlay' value='yes' /><param name='display_count' value='yes' /><param name='language' value='en-US' /></object></div>                <script type='text/javascript'>                    var divElement = document.getElementById('viz1683846144892');                    var vizElement = divElement.getElementsByTagName('object')[0];                    if ( divElement.offsetWidth > 800 ) { vizElement.style.width='100%';vizElement.style.height=(divElement.offsetWidth*0.75)+'px';} else if ( divElement.offsetWidth > 500 ) { vizElement.style.width='100%';vizElement.style.height=(divElement.offsetWidth*0.75)+'px';} else { vizElement.style.width='100%';vizElement.style.height='777px';}                     var scriptElement = document.createElement('script');                    scriptElement.src = 'https://public.tableau.com/javascripts/api/viz_v1.js';                    vizElement.parentNode.insertBefore(scriptElement, vizElement);                </script>\n",
    "\n",
    "[Charlotte 1911 Quadrant Dashboard](https://public.tableau.com/views/Charlotte1911RacialandEconomicDisparitiesbyGeographicDistributionDashboard/Dashboard1?:language=en-US&publish=yes&:display_count=n&:origin=viz_share_link)  "
   ]
  },
  {
   "cell_type": "markdown",
   "id": "female-processor",
   "metadata": {},
   "source": [
    "<div class='tableauPlaceholder' id='viz1683778615499' style='position: relative'><noscript><a href='#'><img alt='Charlotte 1911 7th St Population by Race ' src='https:&#47;&#47;public.tableau.com&#47;static&#47;images&#47;Ch&#47;Charlotte19117thStStPopulationRaceandBusinessOwnership&#47;Story1&#47;1_rss.png' style='border: none' /></a></noscript><object class='tableauViz'  style='display:none;'><param name='host_url' value='https%3A%2F%2Fpublic.tableau.com%2F' /> <param name='embed_code_version' value='3' /> <param name='site_root' value='' /><param name='name' value='Charlotte19117thStStPopulationRaceandBusinessOwnership&#47;Story1' /><param name='tabs' value='no' /><param name='toolbar' value='yes' /><param name='static_image' value='https:&#47;&#47;public.tableau.com&#47;static&#47;images&#47;Ch&#47;Charlotte19117thStStPopulationRaceandBusinessOwnership&#47;Story1&#47;1.png' /> <param name='animate_transition' value='yes' /><param name='display_static_image' value='yes' /><param name='display_spinner' value='yes' /><param name='display_overlay' value='yes' /><param name='display_count' value='yes' /><param name='language' value='en-US' /><param name='filter' value='publish=yes' /></object></div>                <script type='text/javascript'>                    var divElement = document.getElementById('viz1683778615499');                    var vizElement = divElement.getElementsByTagName('object')[0];                    vizElement.style.width='800px';vizElement.style.height='627px';                    var scriptElement = document.createElement('script');                    scriptElement.src = 'https://public.tableau.com/javascripts/api/viz_v1.js';                    vizElement.parentNode.insertBefore(scriptElement, vizElement);                </script>\n",
    "\n",
    "[Charlotte 1911 7th St Story](https://public.tableau.com/views/Charlotte19117thStStPopulationRaceandBusinessOwnership/Story1?:language=en-US&publish=yes&:display_count=n&:origin=viz_share_link)  \n",
    "\n",
    "<div class='tableauPlaceholder' id='viz1683846022457' style='position: relative'><noscript><a href='#'><img alt='2nd St Population by Race ' src='https:&#47;&#47;public.tableau.com&#47;static&#47;images&#47;Ch&#47;Charlotte19112ndStPopulationRaceandBusinessOwnership&#47;Story1&#47;1_rss.png' style='border: none' /></a></noscript><object class='tableauViz'  style='display:none;'><param name='host_url' value='https%3A%2F%2Fpublic.tableau.com%2F' /> <param name='embed_code_version' value='3' /> <param name='site_root' value='' /><param name='name' value='Charlotte19112ndStPopulationRaceandBusinessOwnership&#47;Story1' /><param name='tabs' value='no' /><param name='toolbar' value='yes' /><param name='static_image' value='https:&#47;&#47;public.tableau.com&#47;static&#47;images&#47;Ch&#47;Charlotte19112ndStPopulationRaceandBusinessOwnership&#47;Story1&#47;1.png' /> <param name='animate_transition' value='yes' /><param name='display_static_image' value='yes' /><param name='display_spinner' value='yes' /><param name='display_overlay' value='yes' /><param name='display_count' value='yes' /><param name='language' value='en-US' /></object></div>                <script type='text/javascript'>                    var divElement = document.getElementById('viz1683846022457');                    var vizElement = divElement.getElementsByTagName('object')[0];                    vizElement.style.width='800px';vizElement.style.height='627px';                    var scriptElement = document.createElement('script');                    scriptElement.src = 'https://public.tableau.com/javascripts/api/viz_v1.js';                    vizElement.parentNode.insertBefore(scriptElement, vizElement);                </script>\n",
    "\n",
    "[Charlotte 1911 2nd St Story](https://public.tableau.com/views/Charlotte19112ndStPopulationRaceandBusinessOwnership/Story1?:language=en-US&:display_count=n&:origin=viz_share_link)  \n"
   ]
  },
  {
   "cell_type": "markdown",
   "id": "collected-australia",
   "metadata": {},
   "source": [
    "Return: [Main Notebook](MainNotebook.ipynb)"
   ]
  },
  {
   "cell_type": "code",
   "execution_count": null,
   "id": "utility-prisoner",
   "metadata": {},
   "outputs": [],
   "source": []
  }
 ],
 "metadata": {
  "kernelspec": {
   "display_name": "Python 3",
   "language": "python",
   "name": "python3"
  },
  "language_info": {
   "codemirror_mode": {
    "name": "ipython",
    "version": 3
   },
   "file_extension": ".py",
   "mimetype": "text/x-python",
   "name": "python",
   "nbconvert_exporter": "python",
   "pygments_lexer": "ipython3",
   "version": "3.8.6"
  }
 },
 "nbformat": 4,
 "nbformat_minor": 5
}
