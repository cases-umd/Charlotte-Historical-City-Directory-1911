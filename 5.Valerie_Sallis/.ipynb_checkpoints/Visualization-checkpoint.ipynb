{
 "cells": [
  {
   "cell_type": "markdown",
   "id": "lovely-evidence",
   "metadata": {},
   "source": [
    "## Data Visualization"
   ]
  },
  {
   "cell_type": "markdown",
   "id": "forbidden-cambodia",
   "metadata": {},
   "source": [
    "### Tableau"
   ]
  },
  {
   "cell_type": "markdown",
   "id": "lesbian-fisher",
   "metadata": {},
   "source": [
    "Tableau is a data visualization tool that offers a free platfrom called Tableau Public. Tableau Public can load common spreadsheet formats like Excel and CSV and offers an easy to use interface to create a variety of charts and data visualizations called \"Vizzes\" that can be shared easily on the Tableau Public website. Tableau makes code available to embed your \"Vizzes\" into other sites, which will be used in the next notebook \"Viewing Charlotte\" to present the results of this project. \n",
    "\n",
    "Once a spreadsheet is imported into Tableau, the program autodetects data fields listing them on the left side of the screen in the \"Tables\" menu. Data fields can be dragged and dropped into either the Column or Row \"shelves\" in a Tableau \"Worksheet\" to generate a visualization. Fields can also be used to create labels, color charts, and create filters for the data in a visualization. Tableau offers suggestions for combining the fields to create various types of charts (bar graphs, scatter plots, pie charts, etc.) using the \"Show Me\" menu on the right side of the screen. \n",
    "\n",
    "![Tableau1](Images/Tableau4.jpg)\n",
    "\n",
    "Using Tableau, I created visualizations to examine a number of different factors like the racial makeup of particular streets, the number of business per street, and the ownership of businesses by race. Tableau is accessible and easy to use and offers several short tutorial videos for new users.\n",
    "\n",
    "![Tableau1](Images/Tableau1.jpg) \n",
    "\n",
    "Using filtering with Tableau allows charts to be edited to reflect only the desired values, in this case null results were excluded for addresses that did not give a direction to their street address. \n",
    "\n",
    "![Tableau2](Images/Tableau2.jpg) \n",
    "\n",
    "Multiple Tableau Worksheets can be combined into a single view on a Dashboard, where the charts can be used as filters to interact with other charts' content.\n",
    "\n",
    "![Tableau5](Images/tableau5.jpg) \n",
    "\n",
    "Multiple Tableau Worksheets can also be combined into a single presentation with captions called a Story, a PowerPoint like format. \n",
    "\n",
    "![Tableau3](Images/Tableau3.jpg) \n",
    "\n",
    "Tableau also offers features that allow you to link multiple datasets to create graphs that cross multiple spreadsheets, although this feature was not used for this project. The next notebook will present the findings of the data analyzed for this project."
   ]
  },
  {
   "cell_type": "markdown",
   "id": "raised-racing",
   "metadata": {},
   "source": [
    "Next: [Revisualizing Charlotte](RevisualizingCharlotte.ipynb)"
   ]
  },
  {
   "cell_type": "code",
   "execution_count": null,
   "id": "loose-burton",
   "metadata": {},
   "outputs": [],
   "source": []
  },
  {
   "cell_type": "code",
   "execution_count": null,
   "id": "adequate-hostel",
   "metadata": {},
   "outputs": [],
   "source": []
  }
 ],
 "metadata": {
  "kernelspec": {
   "display_name": "Python 3",
   "language": "python",
   "name": "python3"
  },
  "language_info": {
   "codemirror_mode": {
    "name": "ipython",
    "version": 3
   },
   "file_extension": ".py",
   "mimetype": "text/x-python",
   "name": "python",
   "nbconvert_exporter": "python",
   "pygments_lexer": "ipython3",
   "version": "3.8.6"
  }
 },
 "nbformat": 4,
 "nbformat_minor": 5
}
