{
 "cells": [
  {
   "cell_type": "code",
   "execution_count": null,
   "id": "announced-alarm",
   "metadata": {},
   "outputs": [],
   "source": [
    "Mad or Madam: Investigating A subset of women in the 1911 Charlotte NC Directory\n"
   ]
  },
  {
   "cell_type": "code",
   "execution_count": null,
   "id": "special-holiday",
   "metadata": {},
   "outputs": [],
   "source": []
  }
 ],
 "metadata": {
  "kernelspec": {
   "display_name": "Python 3",
   "language": "python",
   "name": "python3"
  },
  "language_info": {
   "codemirror_mode": {
    "name": "ipython",
    "version": 3
   },
   "file_extension": ".py",
   "mimetype": "text/x-python",
   "name": "python",
   "nbconvert_exporter": "python",
   "pygments_lexer": "ipython3",
   "version": "3.8.6"
  }
 },
 "nbformat": 4,
 "nbformat_minor": 5
}
