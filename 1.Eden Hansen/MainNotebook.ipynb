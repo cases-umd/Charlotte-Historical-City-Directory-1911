{
 "cells": [
  {
   "cell_type": "markdown",
   "id": "extreme-classics",
   "metadata": {},
   "source": [
    "# Utilizing Tableau to Visualize Stories:\n",
    "### A Case Study Using A 1911 Charlotte City Directory"
   ]
  },
  {
   "cell_type": "markdown",
   "id": "transparent-payment",
   "metadata": {},
   "source": [
    "* Contributors: Sara Ludewig, Emily Moore, & Phillip Nicholas\n",
    "* Source Available: https://archive.org/details/charlottenorthca1911pied\n",
    "* License: [Creative Commons - Attribute 4.0 Intl](https://creativecommons.org/licenses/by/4.0/)\n",
    "* Attribution: This work is based upon digital assignments completed by MLIS Students in INST742: Implementing Digital Curation"
   ]
  },
  {
   "cell_type": "markdown",
   "id": "ready-corpus",
   "metadata": {},
   "source": [
    "<h3> Computational Thinking <3>\n",
    "    "
   ]
  },
  {
   "cell_type": "markdown",
   "id": "bound-eagle",
   "metadata": {},
   "source": [
    "This exercise utlizes the following elements of computational thinking. \n",
    "Data Practices:\n",
    "<ul>\n",
    "    <li>Analyzing data</li>\n",
    "    <li>Visualizing data</li>\n",
    "</ul>\n",
    "Modeling and Simulation Practices:\n",
    "<ul>\n",
    "    <li>Computational models to understand a concept</li>\n",
    "</ul>\n",
    "Systems Thinking Practices:\n",
    "<ul>\n",
    "    <li>Investigating complex systems</li>\n",
    "    <li>Understanding relationships within systems</li>\n",
    "    <li>Thinking in levels</li>\n"
   ]
  },
  {
   "cell_type": "markdown",
   "id": "simple-textbook",
   "metadata": {},
   "source": [
    "### Introduction to Charlotte City Directory\n",
    "\n",
    "![Charlotte City Directory](Images/Phillip/Charlotte_City_Directory.png)\n",
    "\n",
    "Charlotte City Directories are book listings of individuals and or organizations that lived, located at, and were associated with Charlotte, North Carolina. The information in these compilations were arranged alphabetically and thematically. These listings contain details like names, addresses, and phone numbers.\n",
    "\n",
    "Many of the Charlotte City Directories have been digitized and are accessible through **Internet Archives** in the ***North Carolina Directories Collection***. There are a total of **49 years available** for the directories. There are directories for the following years: *1875, 1879, 1887, 1889, 1896-97, 1903-04, 1908, 1911, 1921-22, 1924-63*.\n",
    "\n",
    "For this Tableau Assignment, we analyzed some data from the 1911 Charlotte City Directory. The following metadata was extracted and inputted into Excel and CSV spreadsheets for this analysis:\n",
    "\n",
    "* Race\n",
    "* Names (First, Middle, & Last) including Spouse's Name (First & Middle)\n",
    "* Title\n",
    "* Marital Status\n",
    "* Job Title\n",
    "* Company\n",
    "* Address\n",
    "* Type of Address\n",
    "* Gender"
   ]
  },
  {
   "cell_type": "markdown",
   "id": "developed-garbage",
   "metadata": {},
   "source": [
    "<h3>Background on Tableau Public<h3>"
   ]
  },
  {
   "cell_type": "markdown",
   "id": "mysterious-editor",
   "metadata": {},
   "source": [
    "![Tableau_Public_Webpage!](Images/Phillip/Tableau_Public_Webpage.png)\n",
    "\n",
    "\n",
    "Purpose\n",
    "\n",
    "Tableau is a data visualization software that can be used to contextualize data, especially trends, by creating visualizations, which are shared on the web.\n",
    "\n",
    "[This video](https://www.youtube.com/watch?v=iT1iHLGawIM) shows the process for how to open data, create visualizations, and publish to the web.\n",
    "\n",
    "Strengths\n",
    "<ul>\n",
    "    <li>Intuitive design and layout</li>\n",
    "    <li>Varied levels of complexity and purpose (sheets, dashboards, stories)</li>\n",
    "    <li>Demonstrates relationships between variables</li>\n",
    "    <li>Visualizes patterns and themes</li>\n",
    "    <li>Good at demonstrating relationships between data points</li>\n",
    " </ul>\n",
    " Weaknesses\n",
    " <ul>\n",
    "    <li>Not free - 14 day trial</li>\n",
    "    <li>Often not as comprehensive or user-friendly as advertised</li>\n",
    "    <li>Works better on quantitative data than qualitative data</li>\n",
    "    <li>Focused on numerical trends and analytics with limited focus on narrative or observative data</li>\n",
    "</u>"
   ]
  },
  {
   "cell_type": "markdown",
   "id": "recognized-philippines",
   "metadata": {},
   "source": [
    "<h3>Objectives<h3>"
   ]
  },
  {
   "cell_type": "markdown",
   "id": "agreed-bradford",
   "metadata": {},
   "source": [
    "<ol>\n",
    "    <li>Introduce students to the sheets, dashboard, and stories elements within Tableau Public </li>\n",
    "    <li>Instruct students on how to input data in Tableau sheets, dashboard, and stories in order to visualize data and construct a data narrative</li>\n",
    "    <li>Provide students with the tools and resources necessary to create their own data visualizations using Tableau Public </li>"
   ]
  },
  {
   "cell_type": "markdown",
   "id": "enabling-crack",
   "metadata": {},
   "source": [
    "<h3>Notebooks<h3>"
   ]
  },
  {
   "cell_type": "markdown",
   "id": "classical-exploration",
   "metadata": {},
   "source": [
    "1. [Sheets](Sheets.ipynb)\n",
    "2. [Dashboard](Dashboard.ipynb)\n",
    "3. [Stories](Stories.ipynb)\n",
    "\n",
    "Next: [Sheets](Sheets.ipynb)"
   ]
  },
  {
   "cell_type": "code",
   "execution_count": null,
   "id": "annoying-shock",
   "metadata": {},
   "outputs": [],
   "source": []
  }
 ],
 "metadata": {
  "kernelspec": {
   "display_name": "Python 3",
   "language": "python",
   "name": "python3"
  },
  "language_info": {
   "codemirror_mode": {
    "name": "ipython",
    "version": 3
   },
   "file_extension": ".py",
   "mimetype": "text/x-python",
   "name": "python",
   "nbconvert_exporter": "python",
   "pygments_lexer": "ipython3",
   "version": "3.8.6"
  }
 },
 "nbformat": 4,
 "nbformat_minor": 5
}
