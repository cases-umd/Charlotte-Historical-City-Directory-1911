{
 "cells": [
  {
   "cell_type": "markdown",
   "id": "fantastic-lunch",
   "metadata": {},
   "source": [
    "# Dashboard"
   ]
  },
  {
   "cell_type": "markdown",
   "id": "parallel-dubai",
   "metadata": {},
   "source": [
    "The Tableau Public’s Dashboard feature is an **alternative option** to crafting a visualization in a way that **optimizes** the user’s ability to take in information. How you want the layout to look is dependent on the purpose of the Dashboard, who will be utilizing it, and how the individual will use it. When designing your Dashboard, there are no set rules for a particular guideline or set of instructions to follow. The optimization of Dashboard is flexible when structuring your dashboard. Overall, in order to successfully optimize the Dashboard feature, one will need to utilize a combination of best practices, strategies, and creativity for laying out the story and managing the intricacies between being simple, clear, and efficient."
   ]
  },
  {
   "cell_type": "markdown",
   "id": "mechanical-playing",
   "metadata": {},
   "source": [
    "**To begin**, you can move your sheets into the dashboard by clicking your mouse on the icon of the sheet you want to display, then dragging it into the dashboard. With a simple click of the mouse, a user can easily drag and drop sheets into Tableau Dashboard. If you accidentally added a sheet into the dashboard you no longer need or you want to make changes, you can also simply remove sheets from the dashboard by clicking on the sheet then clicking on the exit button in the top right corner of the image. You also have the option to change the type of graph or chart of your sheet once you drag your sheets into the “Drop Sheets Here” space.\n",
    "\n",
    "**Example of Multiple Sheets Displayed:** ![Dashboard Sheets](Images/Phillip/Dashboard_Sheets.png)"
   ]
  },
  {
   "cell_type": "markdown",
   "id": "annoying-injury",
   "metadata": {},
   "source": [
    "In addition, there are other features and objects that you can add into the dashboard. In total, there are ***9 available features*** and options to select and add to your dashboard:\n",
    "1. Horizontal\n",
    "2. Blank\n",
    "3. Vertical\n",
    "4. Navigation\n",
    "5. Text\n",
    "6. Download\n",
    "7. Image\n",
    "8. Extension\n",
    "9. Web Page\n",
    "\n",
    "These features and options are located in the lower left corner of the screen of the dashboard.\n",
    "\n",
    "<img src=\"https://cases.umd.edu/user/pjnicholas/files/sludewig4/Images/Phillip/Object_Feature.png?_xsrf=2%7C6b379ba1%7C3abf1c7fe32e3f461668e882d934c90f%7C1618524977\"\n",
    "     width=\"400\"\n",
    "     height=\"500\" />\n"
   ]
  },
  {
   "cell_type": "markdown",
   "id": "referenced-devil",
   "metadata": {},
   "source": [
    "The purpose for each feature and option is self-explanatory, and the interface is user-friendly. For example, if you want to type a caption that accentuates or highlights a particular feature of the display then you select feature 5, text, and drag it into the dashboard. You will be prompted with the option to type text into a box. \n",
    "\n",
    "![Embed image of Dashboard text feature](Images/Phillip/Text_Feature.png) \n",
    "\n",
    "If you want to download or insert images into your Dashboard, then you will select either feature 6, download, or feature 7, image. For feature 6, you have the choice of downloading either an image, PDF, PowerPoint, or crosstab. For feature 7, you can upload an image from the web or your desktop. \n",
    "\n",
    "![Embed image of Dashboard image feature](Images/Phillip/Image_Feature.png)"
   ]
  },
  {
   "cell_type": "markdown",
   "id": "intellectual-iceland",
   "metadata": {},
   "source": [
    "Once you have learned how to use each feature and option available in Tableau Dashboard, you can decide how you want your dashboard to look based on your intended audience.\n",
    "\n",
    "After you have completed designing your sheets to visualize the data, you can use Tableau’s Dashboard feature to create introduction and conclusion slides. This step can also be done in reverse, before you create your sheets. However, it helps to know the type of visualizations you have created before crafting your introduction and conclusion slides for your stories.\n",
    "\n",
    "**Example of an Introduction:** ![Charlotte Introduction](Images/Phillip/Introduction.png)\n",
    "\n",
    "**Example of a Conclusion:** ![Charlotte Conclusion](Images/Phillip/Conclusion.png)\n"
   ]
  },
  {
   "cell_type": "markdown",
   "id": "soviet-street",
   "metadata": {},
   "source": [
    "Here is an example of Tableau Dashboard optimizing the available tools with updated data:\n",
    "![Dashboard Image](Images/Phillip/Dashboard_Image_5.png)\n"
   ]
  },
  {
   "cell_type": "markdown",
   "id": "subtle-significance",
   "metadata": {},
   "source": [
    "Next: [Stories](Stories.ipynb)"
   ]
  }
 ],
 "metadata": {
  "kernelspec": {
   "display_name": "Python 3",
   "language": "python",
   "name": "python3"
  },
  "language_info": {
   "codemirror_mode": {
    "name": "ipython",
    "version": 3
   },
   "file_extension": ".py",
   "mimetype": "text/x-python",
   "name": "python",
   "nbconvert_exporter": "python",
   "pygments_lexer": "ipython3",
   "version": "3.8.6"
  }
 },
 "nbformat": 4,
 "nbformat_minor": 5
}
