{
 "cells": [
  {
   "cell_type": "markdown",
   "id": "cathedral-surrey",
   "metadata": {},
   "source": [
    "# Building a Bigger Picture:\n",
    "### A Case Study of Combining a 1911 Charlotte General City Directory and Business Directory"
   ]
  },
  {
   "cell_type": "markdown",
   "id": "private-surface",
   "metadata": {},
   "source": [
    "* Author: Bethany Greenho\n",
    "* 1911 Charlotte City Directory: https://archive.org/details/charlottenorthca1911pied\n",
    "* Attribution: This work is the result of a final project for INST742: Implementing Digital Curation, an MLIS course"
   ]
  },
  {
   "cell_type": "markdown",
   "id": "silver-addition",
   "metadata": {},
   "source": [
    "<h3> Computational Thinking <3>\n",
    "    "
   ]
  },
  {
   "cell_type": "markdown",
   "id": "interior-amount",
   "metadata": {},
   "source": [
    "This case study utlizes the following elements of computational thinking. \n",
    "<ul>\n",
    "Data Practices:\n",
    "<ul>\n",
    "    <li>Collecting data</li>\n",
    "    <li>Manipulating data</li>\n",
    "    <li>Analyzing data</li>\n",
    "    <li>Visualizing data</li>\n",
    "</ul>\n",
    "Computational Problem Solving Practices:\n",
    "<ul>\n",
    "    <li>Troubleshooting and debugging</li>\n",
    "</ul>\n",
    "Systems Thinking Practices:\n",
    "<ul>\n",
    "    <li>Understanding the relationships within a system</li>\n",
    "    <li>Thinking in levels</li>\n"
   ]
  },
  {
   "cell_type": "markdown",
   "id": "coastal-florence",
   "metadata": {},
   "source": [
    "### Introducing the Business Directory\n",
    "\n",
    "![Business_Directory_Title_Page](Images/Business_Directory_Title_Page.png)\n",
    "\n",
    "The Business Directory lists Charlotte businesses alphabetically by the type of business or profession a particular company is, such as architects or bakeries. The list includes either the name of an individual who works as the categorized profession or a name of a company and then the address of where the individual or company conducts business. The formatting of the Business Directory provides additional information. Similar to the General Directory, the Business Directory includes astriks next to both cateogries of businesses and company and individual names indicating, in the latter case, black companies and individuals. Additionally, some of the individual and company names are bolded and in capital letters, indicating those individuals and companies are the leaders in their line of work.\n",
    "\n",
    "While on its own the Business Directory provides an in depth look at this one aspect of life in Charlotte in the early twentieth century, because the data relates to information included in other parts of the City Directory, data from the Business Directory compliments other Directory information, helping to build a bigger picture of what life in Charlotte looked like in 1911 that can be analyzed from multiple, complex angles. This case study helps to build a scaffold for this bigger picture. In exploring the process for gathering, cleaning, and combining data from the General Directory and the Business Directory portions of the 1911 Chralotte City Directory this Notebook hopes to accomplish the following objectives:\n",
    "<ul>\n",
    "  1. Explore the processes, questions, and challenges that had to be addressed in order to bring together two sets of data\n",
    "</ul>\n",
    "<ul>\n",
    "  2. Showcase the capabilities of OpenRefine\n",
    "</ul>\n",
    "<ul>\n",
    "  3. Outline further explorations that could potential come from this case study\n",
    "</ul>\n",
    "\n",
    "![City Directory - General Index Page](Images/City_Directory_General_Index_Page.png)"
   ]
  },
  {
   "cell_type": "markdown",
   "id": "geological-joyce",
   "metadata": {},
   "source": [
    "<h3>Notebooks<h3>"
   ]
  },
  {
   "cell_type": "markdown",
   "id": "resistant-bonus",
   "metadata": {},
   "source": [
    "To meet these objectives this case study will be broken up into two different parts described in their own Notebooks:\n",
    "\n",
    "1. [OpenRefine: Gathering, Manipulating, and Combining Data](OpenRefine.ipynb)\n",
    "2. [Visualizations and Further Opportunities](Visualizations.ipynb)\n",
    "\n",
    "Next: [OpenRefine: Gathering, Manipulating, and Combining Data](OpenRefine.ipynb)"
   ]
  },
  {
   "cell_type": "code",
   "execution_count": null,
   "id": "amateur-halloween",
   "metadata": {},
   "outputs": [],
   "source": []
  }
 ],
 "metadata": {
  "kernelspec": {
   "display_name": "Python 3",
   "language": "python",
   "name": "python3"
  },
  "language_info": {
   "codemirror_mode": {
    "name": "ipython",
    "version": 3
   },
   "file_extension": ".py",
   "mimetype": "text/x-python",
   "name": "python",
   "nbconvert_exporter": "python",
   "pygments_lexer": "ipython3",
   "version": "3.8.6"
  }
 },
 "nbformat": 4,
 "nbformat_minor": 5
}
