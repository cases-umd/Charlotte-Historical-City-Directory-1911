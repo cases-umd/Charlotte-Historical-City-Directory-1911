{
 "cells": [
  {
   "cell_type": "markdown",
   "id": "moving-hamburg",
   "metadata": {},
   "source": [
    "<h2> Visualizations and Future Opportunities </h2>\n"
   ]
  },
  {
   "cell_type": "markdown",
   "id": "martial-victim",
   "metadata": {},
   "source": [
    "### Impacts of Connecting the General Directory and Business Directory Datasets\n",
    "\n",
    "In combining data from the Business Directory with the General Directory, a larger picture of the make up of and life in Charlotte can be gleaned. Not only can quesitons about the economic and business makeup be asked, but those questions can be asked in relation to other demographic information. \n",
    "<ul>\n",
    "    <li>How many barber shops were owned or run by African Americans?</li>\n",
    "    <li>Is there any correlation between marital status and the types of businesses a person may run?</li>\n",
    "    <li>What were the business and economic opportunities offered to women at the time?</li>\n",
    "    <li>Where did business occur in 1911 Charlotte - in the home, outside of it, in specific parts of town?</li>\n",
    "</ul>\n",
    "These are just some of the questions that can begin to be asked by combining data from the Business Directory and the General Directory. But even these questions can lead to new interpretations, understandings, and visualizations of both the data itself and life in Charlotte in the early twentieth century."
   ]
  },
  {
   "cell_type": "code",
   "execution_count": 8,
   "id": "invalid-checklist",
   "metadata": {},
   "outputs": [
    {
     "data": {
      "text/html": [
       "<div class='tableauPlaceholder' id='viz1683785928176' style='position: relative'><noscript><a href='#'><img alt='Building a Bigger Picture ' src='https:&#47;&#47;public.tableau.com&#47;static&#47;images&#47;9J&#47;9JQN8JMHN&#47;1_rss.png' style='border: none' /></a></noscript><object class='tableauViz'  style='display:none;'><param name='host_url' value='https%3A%2F%2Fpublic.tableau.com%2F' /> <param name='embed_code_version' value='3' /> <param name='path' value='shared&#47;9JQN8JMHN' /> <param name='toolbar' value='yes' /><param name='static_image' value='https:&#47;&#47;public.tableau.com&#47;static&#47;images&#47;9J&#47;9JQN8JMHN&#47;1.png' /> <param name='animate_transition' value='yes' /><param name='display_static_image' value='yes' /><param name='display_spinner' value='yes' /><param name='display_overlay' value='yes' /><param name='display_count' value='yes' /><param name='language' value='en-US' /></object></div>                <script type='text/javascript'>                    var divElement = document.getElementById('viz1683785928176');                    var vizElement = divElement.getElementsByTagName('object')[0];                    vizElement.style.width='1016px';vizElement.style.height='991px';                    var scriptElement = document.createElement('script');                    scriptElement.src = 'https://public.tableau.com/javascripts/api/viz_v1.js';                    vizElement.parentNode.insertBefore(scriptElement, vizElement);                </script>\n"
      ],
      "text/plain": [
       "<IPython.core.display.HTML object>"
      ]
     },
     "metadata": {},
     "output_type": "display_data"
    }
   ],
   "source": [
    "%%HTML\n",
    "<div class='tableauPlaceholder' id='viz1683785928176' style='position: relative'><noscript><a href='#'><img alt='Building a Bigger Picture ' src='https:&#47;&#47;public.tableau.com&#47;static&#47;images&#47;9J&#47;9JQN8JMHN&#47;1_rss.png' style='border: none' /></a></noscript><object class='tableauViz'  style='display:none;'><param name='host_url' value='https%3A%2F%2Fpublic.tableau.com%2F' /> <param name='embed_code_version' value='3' /> <param name='path' value='shared&#47;9JQN8JMHN' /> <param name='toolbar' value='yes' /><param name='static_image' value='https:&#47;&#47;public.tableau.com&#47;static&#47;images&#47;9J&#47;9JQN8JMHN&#47;1.png' /> <param name='animate_transition' value='yes' /><param name='display_static_image' value='yes' /><param name='display_spinner' value='yes' /><param name='display_overlay' value='yes' /><param name='display_count' value='yes' /><param name='language' value='en-US' /></object></div>                <script type='text/javascript'>                    var divElement = document.getElementById('viz1683785928176');                    var vizElement = divElement.getElementsByTagName('object')[0];                    vizElement.style.width='1016px';vizElement.style.height='991px';                    var scriptElement = document.createElement('script');                    scriptElement.src = 'https://public.tableau.com/javascripts/api/viz_v1.js';                    vizElement.parentNode.insertBefore(scriptElement, vizElement);                </script>"
   ]
  },
  {
   "cell_type": "markdown",
   "id": "celtic-portal",
   "metadata": {},
   "source": [
    "\n",
    "### Future Opportunities \n",
    "#### Within the 1911 Charlotte City Directory Project\n",
    "Because of time limitations, there are multiple aspects of the Business Directory that did not get explored in this project. The following are just a couple of the many different ideas and directions that could be added to or stem from the work of this case study:\n",
    "<ul>\n",
    "    <li>Incorporating the entire Business Directory - OCR, manipulate, and transform all 52 pages of the Business Directory to see a much more complete picture of business in Charlotte and see much stronger patterns among this data.</li>\n",
    "    <li>Exploring the bolded company names - the Business Directory mentioned that companines listed in bold and with all capital letters were considered the top company in a particular field. By marking this \"special\" designation somehow in the Business Directory dataset, it could be combined with the General Directory dataset better consider the similar characteristics between businesses with this designation to better understand what the people of Charlotte thought placed a business at the top of its field.</li> \n",
    "    <li>Companies with listed under multiple Business Types - a few companies were listed under multiple business type headings in the Business Directory, which resulted in duplicate records for certain companies but each with a different business type label. The different business types attached to a particular business could be reconciled somehow to both create a clearer picture of all the kinds of work a business did but also to ensure that when connected to the General Directory dataset all of the relevant data was attached to the correct company or individual's name.</li>\n",
    "</ul>\n",
    "\n",
    "#### Outside of the 1911 Charlotte City Directory Project\n",
    "While the previously mentioned ideas are valid and interesting paths to continue this combined dataset project on, this project also has a larger implication that can go beyond the scope of this single project and this single city directory. By laying out the process and trial and errors taken to combine elements from two disperate datasets, this project acts as a founation from which other disperate datasets can be combined. Whether it is combining two other sections of the 1911 \n",
    "Charlotte City Directory to find other patterns and stories about life in the city or combining data from two or more completely different sources, this case study outlines the needs and capabilities of OpenRefine to do this kind of work as well as gives a heads up to the kind of details indiviudals should keep an eye on or the kinds of questions to consider at the beginning of a project to make the manipulation, transformation, and crossing of datasets a smoother process. There is a great amount of improvement that can be made on the work of this case study, and by improving on this work new stories and naunces of archival data and materials can be brought to life more efficiently."
   ]
  },
  {
   "cell_type": "markdown",
   "id": "employed-resort",
   "metadata": {},
   "source": [
    "Ultimately, what these questions and others that come to fruition through further examination and manipulation of the two datasets help to create is a bigger, more vibrant picture of Charlotte in the early twentieth century, a picture that can be questioned and isolated into individual parts and relationships to tell nuanced stories not just about the reality of life in Charlotte, but also about the perceptions, values, and beliefs the city held.  "
   ]
  },
  {
   "cell_type": "markdown",
   "id": "wrong-aurora",
   "metadata": {},
   "source": [
    "Return: [Main Notebook](MainNotebook.ipynb)"
   ]
  },
  {
   "cell_type": "code",
   "execution_count": null,
   "id": "favorite-perry",
   "metadata": {},
   "outputs": [],
   "source": []
  }
 ],
 "metadata": {
  "kernelspec": {
   "display_name": "Python 3",
   "language": "python",
   "name": "python3"
  },
  "language_info": {
   "codemirror_mode": {
    "name": "ipython",
    "version": 3
   },
   "file_extension": ".py",
   "mimetype": "text/x-python",
   "name": "python",
   "nbconvert_exporter": "python",
   "pygments_lexer": "ipython3",
   "version": "3.8.6"
  }
 },
 "nbformat": 4,
 "nbformat_minor": 5
}
