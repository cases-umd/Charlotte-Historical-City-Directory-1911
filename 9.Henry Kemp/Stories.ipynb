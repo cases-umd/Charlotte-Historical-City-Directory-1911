{
 "cells": [
  {
   "cell_type": "markdown",
   "id": "seventh-participant",
   "metadata": {},
   "source": [
    "<h2> Using Tableau Stories </h2>\n"
   ]
  },
  {
   "cell_type": "markdown",
   "id": "aquatic-virgin",
   "metadata": {},
   "source": [
    "Once you have created sheets to visualize the data, you can begin to input these visualizations into Tableau Stories. Tableau Stories allows you to put visualizations in sequence, provide context to the data, and narrate the data. Before you begin the process of inputting your visualizations, you’ll want to carefully consider the type of story you are telling, the points you want to highlight, and the overall narrative you are trying to convey."
   ]
  },
  {
   "cell_type": "markdown",
   "id": "narrative-hartford",
   "metadata": {},
   "source": [
    "When you are ready to begin using Stories, drag one of your data visualization sheets into the pane. "
   ]
  },
  {
   "cell_type": "markdown",
   "id": "sacred-stability",
   "metadata": {},
   "source": [
    "![Adding a Sheet](Images/Sara/Screenshot1.jpg)"
   ]
  },
  {
   "cell_type": "markdown",
   "id": "olive-assembly",
   "metadata": {},
   "source": [
    "You can then add captions using the grey box at the top of the page."
   ]
  },
  {
   "cell_type": "markdown",
   "id": "cosmetic-entrance",
   "metadata": {},
   "source": [
    "![Caption Box](Images/Sara/Screenshot2.jpg)"
   ]
  },
  {
   "cell_type": "markdown",
   "id": "informational-fruit",
   "metadata": {},
   "source": [
    "To add another caption but continue highlighting information on the same visualization sheet, click “Duplicate” under “New story point.” "
   ]
  },
  {
   "cell_type": "markdown",
   "id": "excellent-geography",
   "metadata": {},
   "source": [
    "![Duplicate Caption](Images/Sara/Screenshot3.jpg)"
   ]
  },
  {
   "cell_type": "markdown",
   "id": "identified-container",
   "metadata": {},
   "source": [
    "You can then delete the duplicated text and input a new caption that continues the story you are telling about the visualization. "
   ]
  },
  {
   "cell_type": "markdown",
   "id": "advance-kingston",
   "metadata": {},
   "source": [
    "You can highlight certain elements of your visualization by attaching data points to the caption box. To do so, click the caption box and then click the element (or elements) you want to highlight."
   ]
  },
  {
   "cell_type": "markdown",
   "id": "professional-mineral",
   "metadata": {},
   "source": [
    "![Attaching to Elements](Images/Sara/Screenshot4.jpg)"
   ]
  },
  {
   "cell_type": "markdown",
   "id": "infectious-counter",
   "metadata": {},
   "source": [
    "After you are satisfied with the number of captions for the first visualization you can move on to adding another sheet. Click “Blank” under “New story point.” This will allow you to drag in another sheet from your workbook. "
   ]
  },
  {
   "cell_type": "markdown",
   "id": "damaged-bennett",
   "metadata": {},
   "source": [
    "![New Sheet](Images/Sara/Screenshot5.jpg)"
   ]
  },
  {
   "cell_type": "markdown",
   "id": "educated-visitor",
   "metadata": {},
   "source": [
    "You can follow the same steps detailed above to input a new sheet, add captions, and highlight elements of the data visualization. \n"
   ]
  },
  {
   "cell_type": "markdown",
   "id": "given-louis",
   "metadata": {},
   "source": [
    "You can also annotate the visualization. To do so, right click the data element you want to highlight. Under “Annotate” select “Point.” You will be prompted to insert your text. This is a good way to insert additional information about a particular data point you are interested in highlighting. You can also change the size of the text box by dragging the edges. "
   ]
  },
  {
   "cell_type": "markdown",
   "id": "fixed-final",
   "metadata": {},
   "source": [
    "![Annotate](Images/Sara/Screenshot6.jpg)"
   ]
  },
  {
   "cell_type": "markdown",
   "id": "fourth-graham",
   "metadata": {},
   "source": [
    "![Annotate2](Images/Sara/Screenshot7.jpg)"
   ]
  },
  {
   "cell_type": "markdown",
   "id": "specialized-headset",
   "metadata": {},
   "source": [
    "To update the caption boxes to reflect the changes made to  highlight elements or annotate points you can click the refresh button associated with the caption. "
   ]
  },
  {
   "cell_type": "markdown",
   "id": "norwegian-chosen",
   "metadata": {},
   "source": [
    "![Refreshing Caption](Images/Sara/Screenshot8.jpg)"
   ]
  },
  {
   "cell_type": "markdown",
   "id": "active-visitor",
   "metadata": {},
   "source": [
    "You can also add text boxes at the beginning and end of the story to provide context. Start by creating a new sheet within the story. However, instead of dragging one of your visualization sheets into the frame, instead drag a text box. You can do this by dragging the “Drag to add text” command on the left side of the workbook to the center pane."
   ]
  },
  {
   "cell_type": "markdown",
   "id": "stylish-message",
   "metadata": {},
   "source": [
    "![Text Box](Images/Sara/Screenshot9.jpg)"
   ]
  },
  {
   "cell_type": "markdown",
   "id": "herbal-score",
   "metadata": {},
   "source": [
    "![Text Box2](Images/Sara/Screenshot10.jpg)"
   ]
  },
  {
   "cell_type": "markdown",
   "id": "cutting-boundary",
   "metadata": {},
   "source": [
    "From here you can add a description and change the color and size of the text box. "
   ]
  },
  {
   "cell_type": "markdown",
   "id": "charming-fence",
   "metadata": {},
   "source": [
    "Once all your elements are inputted, you should be able to click through the finished story associated with the data visualizations."
   ]
  },
  {
   "cell_type": "code",
   "execution_count": 1,
   "id": "dense-savage",
   "metadata": {},
   "outputs": [
    {
     "data": {
      "text/html": [
       "<div class='tableauPlaceholder' id='viz1620056581724' style='position: relative'><noscript><a href='#'><img alt='Charlotte Directory ' src='https:&#47;&#47;public.tableau.com&#47;static&#47;images&#47;Ch&#47;CharlotteCityDirectory&#47;CharlotteDirectory&#47;1_rss.png' style='border: none' /></a></noscript><object class='tableauViz'  style='display:none;'><param name='host_url' value='https%3A%2F%2Fpublic.tableau.com%2F' /> <param name='embed_code_version' value='3' /> <param name='site_root' value='' /><param name='name' value='CharlotteCityDirectory&#47;CharlotteDirectory' /><param name='tabs' value='no' /><param name='toolbar' value='yes' /><param name='static_image' value='https:&#47;&#47;public.tableau.com&#47;static&#47;images&#47;Ch&#47;CharlotteCityDirectory&#47;CharlotteDirectory&#47;1.png' /> <param name='animate_transition' value='yes' /><param name='display_static_image' value='yes' /><param name='display_spinner' value='yes' /><param name='display_overlay' value='yes' /><param name='display_count' value='yes' /><param name='language' value='en' /></object></div>                <script type='text/javascript'>                    var divElement = document.getElementById('viz1620056581724');                    var vizElement = divElement.getElementsByTagName('object')[0];                    vizElement.style.width='1016px';vizElement.style.height='991px';                    var scriptElement = document.createElement('script');                    scriptElement.src = 'https://public.tableau.com/javascripts/api/viz_v1.js';                    vizElement.parentNode.insertBefore(scriptElement, vizElement);                </script>\n"
      ],
      "text/plain": [
       "<IPython.core.display.HTML object>"
      ]
     },
     "metadata": {},
     "output_type": "display_data"
    }
   ],
   "source": [
    "%%HTML\n",
    "<div class='tableauPlaceholder' id='viz1620056581724' style='position: relative'><noscript><a href='#'><img alt='Charlotte Directory ' src='https:&#47;&#47;public.tableau.com&#47;static&#47;images&#47;Ch&#47;CharlotteCityDirectory&#47;CharlotteDirectory&#47;1_rss.png' style='border: none' /></a></noscript><object class='tableauViz'  style='display:none;'><param name='host_url' value='https%3A%2F%2Fpublic.tableau.com%2F' /> <param name='embed_code_version' value='3' /> <param name='site_root' value='' /><param name='name' value='CharlotteCityDirectory&#47;CharlotteDirectory' /><param name='tabs' value='no' /><param name='toolbar' value='yes' /><param name='static_image' value='https:&#47;&#47;public.tableau.com&#47;static&#47;images&#47;Ch&#47;CharlotteCityDirectory&#47;CharlotteDirectory&#47;1.png' /> <param name='animate_transition' value='yes' /><param name='display_static_image' value='yes' /><param name='display_spinner' value='yes' /><param name='display_overlay' value='yes' /><param name='display_count' value='yes' /><param name='language' value='en' /></object></div>                <script type='text/javascript'>                    var divElement = document.getElementById('viz1620056581724');                    var vizElement = divElement.getElementsByTagName('object')[0];                    vizElement.style.width='1016px';vizElement.style.height='991px';                    var scriptElement = document.createElement('script');                    scriptElement.src = 'https://public.tableau.com/javascripts/api/viz_v1.js';                    vizElement.parentNode.insertBefore(scriptElement, vizElement);                </script>"
   ]
  },
  {
   "cell_type": "markdown",
   "id": "mounted-magnitude",
   "metadata": {},
   "source": [
    "Return: [Main Notebook](MainNotebook.ipynb)"
   ]
  },
  {
   "cell_type": "code",
   "execution_count": null,
   "id": "surprised-graphics",
   "metadata": {},
   "outputs": [],
   "source": []
  }
 ],
 "metadata": {
  "kernelspec": {
   "display_name": "Python 3",
   "language": "python",
   "name": "python3"
  },
  "language_info": {
   "codemirror_mode": {
    "name": "ipython",
    "version": 3
   },
   "file_extension": ".py",
   "mimetype": "text/x-python",
   "name": "python",
   "nbconvert_exporter": "python",
   "pygments_lexer": "ipython3",
   "version": "3.8.6"
  }
 },
 "nbformat": 4,
 "nbformat_minor": 5
}
