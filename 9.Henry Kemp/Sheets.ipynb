{
 "cells": [
  {
   "cell_type": "markdown",
   "id": "taken-pound",
   "metadata": {},
   "source": [
    "### Introduction to Sheets\n",
    "\n",
    "Tableau’s sheets are an excellent way to begin to sort through your data and provide an environment to explore early patterns, themes and relationships. Data points can be broken down into discrete categories and then compared using a variety of visualizations. Be sure to experiment with format and color - different visualizations will emphasize various points of interest.\n",
    "\n",
    "1.**To begin**, you’ll need to select what type of file you’re using for your data. We are going with a Microsoft Excel spreadsheet, but you can also do a text file, JSON, and a few other options. ![Tableau open.png](Images/Emily/Tableau_open.png)\n",
    "\n",
    "2.**Once your file has loaded**, you’ll be able to see it and all the data - here, we have our uploaded sheet with all our categories. ![Screenshot (16).png](Images/Emily/Screenshot%20(16).png)\n",
    "\n",
    "3.**This is where it starts to get fun**. Clicking on the “Sheet 1” tab at the bottom of the screen will take you to your first sheet. You’ll see that this page has all our categories on the left in the Tables box, with a big blank field on the right. It’s essentially laid out like a blank graph and we get to select which features we want to explore. ![Screenshot (17).png](Images/Emily/Screenshot%20(17).png)\n",
    "\n",
    "4.**Here, we have an example** sheet that depicts dwelling types from our original file. WE created this by adding the Dwelling category to Columns (at the top of our sheet) and our Excel file to Rows. ![Screenshot (18).png](Images/Emily/Screenshot%20(18).png)\n",
    "\n",
    "On the far right, you’ll see the “Show Me” box, which gives all the options for the types of graphs that can be created with this data. Be sure to click around and experiment to see what graph type is best for your data set - each one will provide a different type of highlight or emphasis. The same goes for color. ![Screenshot (24).png](Images/Emily/Screenshot%20(24).png)\n",
    "\n",
    "5.**Another great feature** of the Sheet is the ability to add additional filters to the data. Here, we have added Marital Status by dragging that category into the Filter box, just to the right of Tables. Once Marital Status is added, a box pops up with all the subcategories. ![Screenshot (19).png](Images/Emily/Screenshot%20(19).png)\n",
    "Click “All” to include all the data points, and then choose “Show Filter” from the Marital Status drop down menu. From there, you will see it added to the right side of your screen. ![Screenshot (21).png](Images/Emily/Screenshot%20(21).png) You can now control the filters on the graph. Here, for example, we see the dwelling type for married individuals \n",
    "![Screenshot (22).png](Images/Emily/Screenshot%20(22).png)\n",
    "and then for single individuals \n",
    "![Screenshot (23).png](Images/Emily/Screenshot%20(23).png)"
   ]
  },
  {
   "cell_type": "markdown",
   "id": "sudden-europe",
   "metadata": {},
   "source": [
    "Next: [Dashboard](Dashboard.ipynb)"
   ]
  },
  {
   "cell_type": "code",
   "execution_count": null,
   "id": "certain-diploma",
   "metadata": {},
   "outputs": [],
   "source": []
  }
 ],
 "metadata": {
  "kernelspec": {
   "display_name": "Python 3",
   "language": "python",
   "name": "python3"
  },
  "language_info": {
   "codemirror_mode": {
    "name": "ipython",
    "version": 3
   },
   "file_extension": ".py",
   "mimetype": "text/x-python",
   "name": "python",
   "nbconvert_exporter": "python",
   "pygments_lexer": "ipython3",
   "version": "3.8.6"
  },
  "toc-autonumbering": false,
  "toc-showcode": false,
  "toc-showmarkdowntxt": false
 },
 "nbformat": 4,
 "nbformat_minor": 5
}
