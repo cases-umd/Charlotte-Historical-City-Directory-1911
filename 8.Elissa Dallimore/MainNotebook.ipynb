{
 "cells": [
  {
   "cell_type": "markdown",
   "id": "provincial-object",
   "metadata": {},
   "source": [
    "# Bringing Data to Life Through OpenRefine and Tableau\n",
    "### Conceptualizing Prosperity: Analyzing Housing through Job Types in 1911 Charlotte, NC"
   ]
  },
  {
   "cell_type": "markdown",
   "id": "narrow-bahamas",
   "metadata": {},
   "source": [
    "* Contributor: Elissa Dallimore\n",
    "* Source Available: https://archive.org/details/charlottenorthca1911pied\n",
    "* License: [Creative Commons - Attribute 4.0 Intl](https://creativecommons.org/licenses/by/4.0/)\n",
    "* Attribution: This work is based upon digital assignments completed by MLIS Students in INST742: Implementing Digital Curation"
   ]
  },
  {
   "cell_type": "markdown",
   "id": "national-hunger",
   "metadata": {},
   "source": [
    "<h3> Computational Thinking <3>\n",
    "    "
   ]
  },
  {
   "cell_type": "markdown",
   "id": "beautiful-klein",
   "metadata": {},
   "source": [
    "This exercise utilizes the following computational thinking practices: \n",
    "\n",
    "Data Practices:\n",
    "<ul>\n",
    "    <li>Manipulating data</li>\n",
    "    <li>Analyzing data</li>\n",
    "    <li>Visualizing data</li>\n",
    "</ul>\n",
    "Modeling and Simulation Practices:\n",
    "<ul>\n",
    "    <li>Using computational models to understand a concept</li>\n",
    "</ul>\n",
    "Systems Thinking Practices:\n",
    "<ul>\n",
    "    <li>Investigating complex systems as a whole</li>\n",
    "    <li>Understanding relationships within systems</li>\n",
    "    <li>Thinking in levels</li>\n",
    "    <li>Communicating information about a system</li>\n",
    "\n",
    "\n",
    "</ul>Initial Questions:\n",
    "<ul>\n",
    "<li>How many people owned or rented houses rather than renting a room or a bed?</li>\n",
    "<li>What jobs were the most popular?</li>\n",
    "<li>Is there a disparity in the type of housing based on what jobs people had?</li>\n",
    "<li>In what sort of jobs were people more likely to rent a room or bed rather than own a house?</li>\n",
    "\n"
   ]
  },
  {
   "cell_type": "markdown",
   "id": "bronze-mother",
   "metadata": {},
   "source": [
    "### Introduction to Charlotte City Directory\n",
    "\n",
    "![Charlotte City Directory](Images/Phillip/Charlotte_City_Directory.png)\n",
    "\n",
    "The 1911 Charlotte City Directory compiles all the individuals who lived or had a business in Charlotte, NC in addition to businesses in the city. It lists each person alphabetically, along with their addresses, titles, jobs, spouse's name, and so forth. Whilst it is certainly interesting to flip through these records, you may wonder if its really worth preserving old phonebook and directory data beyond familial interests. \n",
    "\n",
    "Can we really glean anything new from these records?\n",
    "\n",
    "Through software like OpenRefine and Tableau, we can visualize and understand larger trends in this data that we cannot glimpse on paper. In this notebook, we'll travel back to the streets of Charlotte in 1911 to try to understand what life was like through two important facets: jobs and housing. In comparing these data points, we'll be able to gain a new sliver of understanding about the prosperity and security of people at that time.  \n",
    "\n",
    "To begin, click on the first sheet below."
   ]
  },
  {
   "cell_type": "markdown",
   "id": "civic-pioneer",
   "metadata": {},
   "source": [
    "<h3>Objectives<h3>"
   ]
  },
  {
   "cell_type": "markdown",
   "id": "latest-equation",
   "metadata": {},
   "source": [
    "<ol>\n",
    "    <li> Introduce students to cleaning up data using GREL and Regex in OpenRefine </li>\n",
    "    <li> Demonstrate to students how to visualize and investigate data in Tableau </li>"
   ]
  },
  {
   "cell_type": "markdown",
   "id": "bridal-usage",
   "metadata": {},
   "source": [
    "<h3>Notebooks<h3>"
   ]
  },
  {
   "cell_type": "markdown",
   "id": "hollow-iraqi",
   "metadata": {},
   "source": [
    "1. [Manipulating the Data in OpenRefine](ManipulatingDataOpenRefine.ipynb)\n",
    "2. [Visualizing the Data in Tableau](Visualizing_the_Data_in_Tableau.ipynb)\n",
    "\n",
    "Next: [Manipulating the Data in OpenRefine](Sheets.ipynb)"
   ]
  },
  {
   "cell_type": "code",
   "execution_count": null,
   "id": "veterinary-potter",
   "metadata": {},
   "outputs": [],
   "source": []
  },
  {
   "cell_type": "code",
   "execution_count": null,
   "id": "fewer-discount",
   "metadata": {},
   "outputs": [],
   "source": []
  }
 ],
 "metadata": {
  "kernelspec": {
   "display_name": "Python 3",
   "language": "python",
   "name": "python3"
  },
  "language_info": {
   "codemirror_mode": {
    "name": "ipython",
    "version": 3
   },
   "file_extension": ".py",
   "mimetype": "text/x-python",
   "name": "python",
   "nbconvert_exporter": "python",
   "pygments_lexer": "ipython3",
   "version": "3.8.6"
  }
 },
 "nbformat": 4,
 "nbformat_minor": 5
}
