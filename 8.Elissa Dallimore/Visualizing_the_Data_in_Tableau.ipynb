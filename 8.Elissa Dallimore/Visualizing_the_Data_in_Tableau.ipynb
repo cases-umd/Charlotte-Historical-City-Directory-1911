{
 "cells": [
  {
   "cell_type": "markdown",
   "id": "portable-fetish",
   "metadata": {},
   "source": [
    "# Visualizing The Data in Tableau"
   ]
  },
  {
   "cell_type": "markdown",
   "id": "annual-advantage",
   "metadata": {},
   "source": [
    "Once you have downloaded the cleaned up data into Tableau, you can begin to investigate the relationship between housing and job types. You will want to return to these questions:\n",
    "\n",
    "<li>How many people owned or rented houses rather than renting a room or a bed?</li>\n",
    "<li>What jobs were the most popular?</li>\n",
    "<li>Is there a disparity in the type of housing based on what jobs people had?</li>\n",
    "<li>In what sort of jobs were people more likely to rent a room or bed rather than own a house?</li>\n",
    "\n",
    "All of these questions can guide you as you begin experimenting with the visualization tools."
   ]
  },
  {
   "cell_type": "markdown",
   "id": "compliant-background",
   "metadata": {},
   "source": [
    "**To begin**, let's create a table that displays the housing types by job types. First you will create a new sheet and title it \"Housing Type by Job\" as shown below:![HousingTypeByJob.png](ElissaImages/HousingTypeByJob.png)"
   ]
  },
  {
   "cell_type": "markdown",
   "id": "stable-commander",
   "metadata": {},
   "source": [
    "**Next,** we can begin applying the tables. Drag the \"Job\" table on the left hand side to rows. As you can see, this table isn't telling us much so far besides listing what jobs people held. ![Job.png](ElissaImages/Job.png)\n"
   ]
  },
  {
   "cell_type": "markdown",
   "id": "virtual-mattress",
   "metadata": {},
   "source": [
    "Let's now add the \"Residence Type\" table by moving it to columns. ![Residence.png](ElissaImages/Residence.png)\n",
    "\n",
    "As you can see by now, it's important to remember to add the numerical table to the visualization. But where can we add it? Since we want the numbers to appear in place of the \"ABC,\" we will want to drag and drop the #Charlotte1911... table on the left hand side on the \"Text\" box listed under marks. Now your table should look like this:\n",
    "\n",
    "![NumbersAdded.png](ElissaImages/NumbersAdded.png)"
   ]
  },
  {
   "cell_type": "markdown",
   "id": "legitimate-characterization",
   "metadata": {},
   "source": [
    "We won't want the Null results to skew our data, so let's exclude those. Drag and drop the \"Job\" table over to \"Filters.\" Then make sure only the \"Null\" row is selected and click exclude as shown below:\n",
    "\n",
    "![Null.png](ElissaImages/Null.png)\n",
    "\n",
    "**Now we can visualize the data!** Let's order the results by number rather than alphabetically. Click the three lines next to the \"House\" column to put the \"Jobs\" in descending order by the \"House Type.\" ![HouseOrder.png](ElissaImages/HouseOrder.png)\n",
    "\n",
    "You can adjust the color and size of the text by clicking on the relevant fields under the \"Marks\" section. Let's change the numbers to a light blue and increase the size: ![ColorSize.png](ElissaImages/ColorSize.png)"
   ]
  },
  {
   "cell_type": "markdown",
   "id": "level-graph",
   "metadata": {},
   "source": [
    "**You've just finished creating your first sheet!** Once you create enough sheets, you can create a story. Run the script below to see an example of a story that gives an overview of the data and see if you can create the same visualizations:\n",
    "\n",
    "\n"
   ]
  },
  {
   "cell_type": "code",
   "execution_count": 6,
   "id": "imported-nursing",
   "metadata": {},
   "outputs": [
    {
     "data": {
      "text/html": [
       "<div class='tableauPlaceholder' id='viz1683773987438' style='position: relative'><noscript><a href='#'><img alt='Job Type by Housing Type Comparison in Charlotte, NC (1911) ' src='https:&#47;&#47;public.tableau.com&#47;static&#47;images&#47;Jo&#47;JobTypeHousingTypeCharlotte1911&#47;Story2&#47;1_rss.png' style='border: none' /></a></noscript><object class='tableauViz'  style='display:none;'><param name='host_url' value='https%3A%2F%2Fpublic.tableau.com%2F' /> <param name='embed_code_version' value='3' /> <param name='site_root' value='' /><param name='name' value='JobTypeHousingTypeCharlotte1911&#47;Story2' /><param name='tabs' value='no' /><param name='toolbar' value='yes' /><param name='static_image' value='https:&#47;&#47;public.tableau.com&#47;static&#47;images&#47;Jo&#47;JobTypeHousingTypeCharlotte1911&#47;Story2&#47;1.png' /> <param name='animate_transition' value='yes' /><param name='display_static_image' value='yes' /><param name='display_spinner' value='yes' /><param name='display_overlay' value='yes' /><param name='display_count' value='yes' /><param name='language' value='en-US' /><param name='filter' value='publish=yes' /></object></div>                <script type='text/javascript'>                    var divElement = document.getElementById('viz1683773987438');                    var vizElement = divElement.getElementsByTagName('object')[0];                    vizElement.style.width='1024px';vizElement.style.height='795px';                    var scriptElement = document.createElement('script');                    scriptElement.src = 'https://public.tableau.com/javascripts/api/viz_v1.js';                    vizElement.parentNode.insertBefore(scriptElement, vizElement);                </script>\n"
      ],
      "text/plain": [
       "<IPython.core.display.HTML object>"
      ]
     },
     "metadata": {},
     "output_type": "display_data"
    }
   ],
   "source": [
    "%%HTML\n",
    "<div class='tableauPlaceholder' id='viz1683773987438' style='position: relative'><noscript><a href='#'><img alt='Job Type by Housing Type Comparison in Charlotte, NC (1911) ' src='https:&#47;&#47;public.tableau.com&#47;static&#47;images&#47;Jo&#47;JobTypeHousingTypeCharlotte1911&#47;Story2&#47;1_rss.png' style='border: none' /></a></noscript><object class='tableauViz'  style='display:none;'><param name='host_url' value='https%3A%2F%2Fpublic.tableau.com%2F' /> <param name='embed_code_version' value='3' /> <param name='site_root' value='' /><param name='name' value='JobTypeHousingTypeCharlotte1911&#47;Story2' /><param name='tabs' value='no' /><param name='toolbar' value='yes' /><param name='static_image' value='https:&#47;&#47;public.tableau.com&#47;static&#47;images&#47;Jo&#47;JobTypeHousingTypeCharlotte1911&#47;Story2&#47;1.png' /> <param name='animate_transition' value='yes' /><param name='display_static_image' value='yes' /><param name='display_spinner' value='yes' /><param name='display_overlay' value='yes' /><param name='display_count' value='yes' /><param name='language' value='en-US' /><param name='filter' value='publish=yes' /></object></div>                <script type='text/javascript'>                    var divElement = document.getElementById('viz1683773987438');                    var vizElement = divElement.getElementsByTagName('object')[0];                    vizElement.style.width='1024px';vizElement.style.height='795px';                    var scriptElement = document.createElement('script');                    scriptElement.src = 'https://public.tableau.com/javascripts/api/viz_v1.js';                    vizElement.parentNode.insertBefore(scriptElement, vizElement);                </script>"
   ]
  },
  {
   "cell_type": "markdown",
   "id": "pointed-ranch",
   "metadata": {},
   "source": [
    "**Further Questions**\n",
    "\n",
    "<l>1) How does the housing breakdown by job compare to 50 years later (1951) or 100 years later (2011)?</l>\n",
    "\n",
    "<l>2) How do the most popular jobs compare to today? How do the housing situations compare?</l>\n",
    "\n",
    "<l>3) What factors seemed to impact whether two employees of the same job had different housing situations?</l>"
   ]
  },
  {
   "cell_type": "code",
   "execution_count": null,
   "id": "defined-judge",
   "metadata": {},
   "outputs": [],
   "source": []
  }
 ],
 "metadata": {
  "kernelspec": {
   "display_name": "Python 3",
   "language": "python",
   "name": "python3"
  },
  "language_info": {
   "codemirror_mode": {
    "name": "ipython",
    "version": 3
   },
   "file_extension": ".py",
   "mimetype": "text/x-python",
   "name": "python",
   "nbconvert_exporter": "python",
   "pygments_lexer": "ipython3",
   "version": "3.8.6"
  }
 },
 "nbformat": 4,
 "nbformat_minor": 5
}
