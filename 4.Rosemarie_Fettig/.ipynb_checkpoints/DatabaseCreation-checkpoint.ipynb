{
 "cells": [
  {
   "cell_type": "markdown",
   "id": "deadly-america",
   "metadata": {},
   "source": [
    "# Database Creation\n",
    "\n",
    "## Preparing Create Script\n",
    "\n",
    "With relational database management systems like MySQL, you typically construct a logical model of your database and then instruct the system to forward engineer the model into a physical database. In Neo4j, you have to write the code to create the database yourself, using the Cypher language, and while this is a little more labor-instensive, it gives you a higher level of control over the creation of the database and more ability to fine-tune things. \n",
    "\n",
    "### Original Create Script\n",
    "\n",
    "The create script used for the graph database in the original assignment, as described in the previous notebook, looked like this:"
   ]
  },
  {
   "cell_type": "code",
   "execution_count": null,
   "id": "alpine-suspect",
   "metadata": {},
   "outputs": [],
   "source": [
    "LOAD CSV WITH HEADERS FROM \"file:///Charlotte1911_new.csv\" AS row \n",
    "MERGE (p:Person {FirstName: row.First, LastName: row.LastName, MiddleInitial: row.Middle, Address: row.Address})\n",
    "MERGE (d:Dwelling {DwellingType: row.Dwelling})\n",
    "MERGE (r:Race {RaceType: row.Race})\n",
    "MERGE (m:MaritalStatus {MaritalType: row.MaritalStatus, SpouseName: row.Spouse})\n",
    "MERGE (s:Salutation {SalutationType: row.Salutation})\n",
    "MERGE (c:Company {CompanyName: row.Company})\n",
    "MERGE (j:Job {JobTitle: row.JobTitle})\n",
    "MERGE (p)-[li:Lives_In]->(d)\n",
    "MERGE (p)-[hr:Has_Race]->(r)\n",
    "MERGE (p)-[ms:Has_Marital_Status]->(m)\n",
    "MERGE (p)-[hs:Has_Salutation]->(s)\n",
    "MERGE (p)-[pc:Works_At]->(c)\n",
    "MERGE (p)-[jn:Has_Job]->(j)"
   ]
  },
  {
   "cell_type": "markdown",
   "id": "signed-craps",
   "metadata": {},
   "source": [
    "### Modified Create Scripts\n",
    "\n",
    "The final create script I eventually developed looks like this, but only after several rounds of experimentation:"
   ]
  },
  {
   "cell_type": "code",
   "execution_count": null,
   "id": "aboriginal-chrome",
   "metadata": {},
   "outputs": [],
   "source": [
    "LOAD CSV WITH HEADERS FROM \"file:///Charlotte1911_mod.csv\" AS row \n",
    "MERGE (p:Person {PersonID: row.PersonID})\n",
    "ON CREATE SET p.FirstName = row.First, p.LastName = row.LastName, p.MiddleInitial = row.Middle\n",
    "MERGE (s:Salutation {SalutationType: row.Salutation})\n",
    "MERGE (r:Race {RaceType: row.Race})\n",
    "MERGE (j:Job {JobTitle: row.JobTitle})\n",
    "MERGE (c:Company {CompanyName: row.Company})\n",
    "MERGE (m:MaritalStatus {MaritalType: row.MaritalStatus})\n",
    "MERGE (a:Address {StreetAddress:row.Address})\n",
    "MERGE (d:Dwelling {DwellingType: row.Dwelling})\n",
    "MERGE (p) - [hs:HasSalutation] -> (s)\n",
    "MERGE (p) - [hr:HasRace] -> (r)\n",
    "MERGE (p) - [hj:HasJob] -> (j)\n",
    "MERGE (p) - [wa:WorksAt] -> (c)\n",
    "MERGE (p) - [ms:HasMaritalStatus] -> (m)\n",
    "MERGE (p) - [la:LivesAt] -> (a)\n",
    "MERGE (a) - [ia:IsA] -> (d)"
   ]
  },
  {
   "cell_type": "markdown",
   "id": "imposed-stable",
   "metadata": {},
   "source": [
    "Eagle-eyed readers will notice that this script doesn't contain a \"MarriedTo\" relationship. That's because creating relationships between nodes of the same type (in this case, person to person) wasn't particularly intuitvive. I found it easier to do two loads: one for the records themselves and the more simple relationships, then a second for the marriage relationships. I relied a lot on Neo4j documentation - [This one](https://neo4j.com/docs/getting-started/appendix/tutorials/guide-import-relational-and-etl/#_creating_relationships_between_employees) proved particularly helpful - and the kindness of StackOverflow strangers from years past to help me figure it out. In the end, the secondary create script for marriage relationships looked like this: "
   ]
  },
  {
   "cell_type": "code",
   "execution_count": null,
   "id": "metropolitan-negotiation",
   "metadata": {},
   "outputs": [],
   "source": [
    "LOAD CSV WITH HEADERS FROM \"file:///Charlotte1911_mod.csv\" AS row \n",
    "MATCH (person:Person {PersonID: row.PersonID})\n",
    "MATCH (spouse:Person {PersonID: row.MarriedTo})\n",
    "MERGE (person) -[mt:MarriedTo]-> (spouse)"
   ]
  },
  {
   "cell_type": "markdown",
   "id": "another-leadership",
   "metadata": {},
   "source": [
    "Since I am by no means fluent in Cypher, there may indeed be more efficient or more elegant solutions out there, but given the nature of this project I was content to patchwork things together to get to the results I wanted. Through research and troubleshooting, I eventually realized that the use of unique identifiers was going to be necessary in order to clearly define the relationships, hence the inclusion of the \"PersonID\" and \"MarriedTo\" columns. These function a lot like primary/foreign keys in relational database systems like SQL – once I made that connection this became a lot easier because of my experience with SQL."
   ]
  },
  {
   "cell_type": "markdown",
   "id": "proper-alcohol",
   "metadata": {},
   "source": [
    "# Executing Script and Ingesting Data\n",
    "\n",
    "Because I was loading data from a CSV file (hence the `LOAD CSV WITH HEADERS FROM` keywords at the beginning of each create script), these scripts actually create the database and populate it with data from the CSV at the same time. It took a lot of troubleshooting to arrive at the code included above because no matter how conscious I was in my drafting, I still had to test the code to make sure it worked. This process involved a lot of back and forth: draft a load script, run it, see what the graph looked like, find an issue, go back and edit the script, delete the previous version of the database from my server, rinse and repeat.\n",
    "\n",
    "Here are some samples of early test code, when I was trying to see if I could get Neo4j to build the relationships I wanted without me having to modify the CSV too much (which did not work, as you saw in the previous notebook):"
   ]
  },
  {
   "cell_type": "code",
   "execution_count": null,
   "id": "interstate-cartridge",
   "metadata": {},
   "outputs": [],
   "source": [
    "#test load script with just people\n",
    "LOAD CSV WITH HEADERS FROM \"file:///Charlotte1911_new.csv\" AS row \n",
    "MERGE (p:Person {FirstName: row.First, LastName: row.LastName, MiddleInitial: row.Middle})\n",
    "MERGE (s:Spouse {FirstName: row.Spouse, LastName: row.LastName})\n",
    "MERGE (m:MaritalStatus {MaritalType: row.MaritalStatus})\n",
    "MERGE (p)-[ms:Has_Marital_Status]->(m)\n",
    "RETURN p, s, m, ms\n",
    "\n",
    "#test load script round two\n",
    "LOAD CSV WITH HEADERS FROM \"file:///Charlotte1911_mod.csv\" AS row \n",
    "MERGE (p:Person {FirstName: row.First, LastName: row.LastName, MiddleInitial: row.Middle})\n",
    "MERGE (m:MaritalStatus {MaritalType: row.MaritalStatus})\n",
    "MERGE (p)-[ms:Has_Marital_Status]->(m)\n",
    "MERGE (p)-[mt:MarriedTo]->(p)"
   ]
  },
  {
   "cell_type": "markdown",
   "id": "dress-friday",
   "metadata": {},
   "source": [
    "## Full Graph Display\n",
    "\n",
    "The complete graph, with all 48 individuals and associated information, turned out like this:\n",
    "\n",
    "![FullGraph](Images/FullGraph.png)\n",
    "\n",
    "With this smaller dataset, it's possible to pick out some interesting connections, but the real benefit of this data model is its ability to support a broad variety of queries, which we'll look at next.\n",
    "\n",
    "Next: [Results](Results.ipynb)"
   ]
  }
 ],
 "metadata": {
  "kernelspec": {
   "display_name": "Python 3",
   "language": "python",
   "name": "python3"
  },
  "language_info": {
   "codemirror_mode": {
    "name": "ipython",
    "version": 3
   },
   "file_extension": ".py",
   "mimetype": "text/x-python",
   "name": "python",
   "nbconvert_exporter": "python",
   "pygments_lexer": "ipython3",
   "version": "3.8.6"
  }
 },
 "nbformat": 4,
 "nbformat_minor": 5
}
