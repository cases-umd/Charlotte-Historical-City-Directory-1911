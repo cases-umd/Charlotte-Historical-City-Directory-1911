{
 "cells": [
  {
   "cell_type": "markdown",
   "id": "related-debate",
   "metadata": {},
   "source": [
    "# Gender, Race, and Archival Silences in the Charlotte 1911 Directory"
   ]
  },
  {
   "cell_type": "markdown",
   "id": "fixed-hopkins",
   "metadata": {},
   "source": [
    "Sarah Craig<br>INST742, Spring 2023<br><br>\n",
    "\n",
    "\n"
   ]
  },
  {
   "cell_type": "markdown",
   "id": "851c2ea7-801e-4b0a-ba94-bc83596308fe",
   "metadata": {
    "tags": []
   },
   "source": [
    "## 7. Gender, Race, and Archival Silences:\n",
    "* **Author:** Sarah Craig\n",
    "* **Abstract:** Data visualization and analysis of women in the historical city directory (gender, married and widow status). Inferring meaning and in the context of archival silences and ambiguity.\n",
    "* **Dataset:** Full datified Directory (16,000 entries)\n",
    "* **Tools:** OpenRefine, Tableau\n",
    "* **Video:** https://youtu.be/tJI28XOcMmU (12′ 40″)"
   ]
  },
  {
   "cell_type": "markdown",
   "id": "bigger-sharing",
   "metadata": {},
   "source": [
    "\n",
    "**archival silence**\n",
    "*n.*\n",
    "1. a gap in the historical record resulting from the unintentional or purposeful absence or distortion of documentation\n",
    "\n",
    "https://dictionary.archivists.org/entry/archival-silence.html"
   ]
  },
  {
   "cell_type": "markdown",
   "id": "hazardous-participant",
   "metadata": {},
   "source": [
    "For our final project, we were asked to do something with the complete data set created by OCRing and datafying the Charlotte, North Carolina 1911 city directory.\n",
    "\n",
    "As we worked with a subset of this data throughout the semester, I noticed an obvious element of archival silence: Married women outside the workforce were generally only referenced in their husband's directory entries, rather than having entries of their own. Thus, the datafication of the directory included their names only as information for their husbands. They were not represented with their own rows in the data set.\n",
    "\n",
    "My initial goal with this project was to bring these obliquely-referenced women into the data set. As I worked to mitigate this particular archival silence, however, I uncovered more archival silences in the directory. These archival silences have bearing on what we can and cannot safely infer from this data set. On a meta level, they also reflect the worldviews and biases of the directory's authors and provide insight into the social landscape of the urban Appalachian South in the early twentieth century."
   ]
  },
  {
   "cell_type": "markdown",
   "id": "refined-absence",
   "metadata": {},
   "source": [
    "***\n",
    "\n",
    "## Married Men and Married Women"
   ]
  },
  {
   "cell_type": "markdown",
   "id": "backed-pizza",
   "metadata": {},
   "source": [
    "\n",
    "We started with this data set: [Charlotte1911-consolidated.xlsx](./Charlotte1911-consolidated.xlsx)\n",
    "\n",
    "This data set incorporates both the business directory and the residential directory. It consists of 15,711 rows with data in some or all of the following columns:\n",
    "*  Original copy from the directory entry\n",
    "*  Race\n",
    "*  Name (Full)\n",
    "*  Title\n",
    "*  Married\n",
    "*  Widow-of\n",
    "*  Spouse\n",
    "*  In Business Directory?\n",
    "*  Is Business?\n",
    "*  Job\n",
    "*  Company\n",
    "*  Company Details (Address and/or Phone)\n",
    "*  Housing (Residential Address)"
   ]
  },
  {
   "cell_type": "markdown",
   "id": "baking-universal",
   "metadata": {},
   "source": [
    "The complete data set was a little bit too large for OpenRefine to handle comfortably, so as a first step, I eliminated the data from the business directory by filtering on In Business Directory. Then I divided the remaining data into two subsets. In Excel, I filtered by nulls in the Spouse column to create the data sets 1) All Married Men and 2) All Unmarried and Widowed, which I saved as separate files."
   ]
  },
  {
   "cell_type": "markdown",
   "id": "fifth-coaching",
   "metadata": {},
   "source": [
    "The goal was to create a new row for each woman referenced only in her husband's entry - in effect, creating new rows based on existing rows. OpenRefine, however, isn't set up for data manipulation on the basis of rows. It does everything through the lens of columns. So to frame this problem in a way that could be solved with OpenRefine, I had to reframe it as a columns-based problem.\n",
    "\n",
    "What data does the original directory entry encode about these women?\n",
    "*  First name\n",
    "*  Last name\n",
    "*  Title/marital status\n",
    "*  Spouse\n",
    "*  Residential address, assuming same as husband's\n",
    "*  Race, assuming same as husband's\n",
    "\n",
    "(In the pre-*Loving v. Virginia* South, the assumption of same-race married couples is a reasonable one, but it does risk reifying archival silences of its own in the event that any of the couples in the directory actually were mixed-race but were not designated as such. Since the underlying primary source doesn't reference such cases or leave us with any clues to discern them, it makes sense to err on the side of the most probable assumption, but it's worth bearing in mind that this information *is* grounded in an assumption and is less certain than information actually printed in the directory.)"
   ]
  },
  {
   "cell_type": "markdown",
   "id": "shaped-devil",
   "metadata": {},
   "source": [
    "The few pieces of data that we have about married women map fairly neatly onto a subset of the columns from our starting data set.\n",
    "\n",
    "To prepare the data, I split Name into two columns. For the sake of simplicity, I also collapsesd Title and Married into one column.\n",
    "\n",
    "*  Original copy from the directory entry\n",
    "*  **Race**\n",
    "*  **Last Name**\n",
    "*  **First and Middle Name**\n",
    "*  **Title**\n",
    "*  Widow-of\n",
    "*  **Spouse**\n",
    "*  In Business Directory?\n",
    "*  Is Business?\n",
    "*  Job\n",
    "*  Company\n",
    "*  Company Details\n",
    "*  **Housing**"
   ]
  },
  {
   "cell_type": "raw",
   "id": "gorgeous-flavor",
   "metadata": {},
   "source": [
    "[\n",
    "  {\n",
    "    \"op\": \"core/column-split\",\n",
    "    \"engineConfig\": {\n",
    "      \"facets\": [],\n",
    "      \"mode\": \"row-based\"\n",
    "    },\n",
    "    \"columnName\": \"Name\",\n",
    "    \"guessCellType\": true,\n",
    "    \"removeOriginalColumn\": true,\n",
    "    \"mode\": \"separator\",\n",
    "    \"separator\": \" \",\n",
    "    \"regex\": false,\n",
    "    \"maxColumns\": 2,\n",
    "    \"description\": \"Split column Name by separator\"\n",
    "  },\n",
    "  {\n",
    "    \"op\": \"core/column-rename\",\n",
    "    \"oldColumnName\": \"Name 2\",\n",
    "    \"newColumnName\": \"First and Middle Name\",\n",
    "    \"description\": \"Rename column Name 2 to First and Middle Name\"\n",
    "  },\n",
    "  {\n",
    "    \"op\": \"core/column-rename\",\n",
    "    \"oldColumnName\": \"Name 1\",\n",
    "    \"newColumnName\": \"Last Name\",\n",
    "    \"description\": \"Rename column Name 1 to Last Name\"\n",
    "  },\n",
    "  {\n",
    "    \"op\": \"core/text-transform\",\n",
    "    \"engineConfig\": {\n",
    "      \"facets\": [],\n",
    "      \"mode\": \"row-based\"\n",
    "    },\n",
    "    \"columnName\": \"Title\",\n",
    "    \"expression\": \"join ([coalesce(cells['Title'].value,''),coalesce(cells['Married'].value,'')],'')\",\n",
    "    \"onError\": \"keep-original\",\n",
    "    \"repeat\": false,\n",
    "    \"repeatCount\": 10,\n",
    "    \"description\": \"Text transform on cells in column Title using expression join ([coalesce(cells['Title'].value,''),coalesce(cells['Married'].value,'')],'')\"\n",
    "  },\n",
    "  {\n",
    "    \"op\": \"core/column-removal\",\n",
    "    \"columnName\": \"Married\",\n",
    "    \"description\": \"Remove column Married\"\n",
    "  },\n",
    "  {\n",
    "    \"op\": \"core/mass-edit\",\n",
    "    \"engineConfig\": {\n",
    "      \"facets\": [],\n",
    "      \"mode\": \"row-based\"\n",
    "    },\n",
    "    \"columnName\": \"Title\",\n",
    "    \"expression\": \"value\",\n",
    "    \"edits\": [\n",
    "      {\n",
    "        \"from\": [\n",
    "          \"\"\n",
    "        ],\n",
    "        \"fromBlank\": true,\n",
    "        \"fromError\": false,\n",
    "        \"to\": \"Mr\"\n",
    "      }\n",
    "    ],\n",
    "    \"description\": \"Mass edit cells in column Title\"\n",
    "  }\n",
    "]"
   ]
  },
  {
   "cell_type": "markdown",
   "id": "verbal-insertion",
   "metadata": {},
   "source": [
    "At this point, I saved a copy of the data set so that I would have an updated version of All Married Men with the correct column configuration.\n",
    "\n",
    "Then, I applied a few more transformations to create the new data set All Married Women."
   ]
  },
  {
   "cell_type": "raw",
   "id": "ignored-victorian",
   "metadata": {},
   "source": [
    "[\n",
    "     {\n",
    "    \"op\": \"core/column-addition\",\n",
    "    \"engineConfig\": {\n",
    "      \"facets\": [],\n",
    "      \"mode\": \"row-based\"\n",
    "    },\n",
    "    \"baseColumnName\": \"First and Middle Name\",\n",
    "    \"expression\": \"grel:value\",\n",
    "    \"onError\": \"set-to-blank\",\n",
    "    \"newColumnName\": \"First and Middle Name 1\",\n",
    "    \"columnInsertIndex\": 4,\n",
    "    \"description\": \"Create column First and Middle Name 1 at index 4 based on column First and Middle Name using expression grel:value\"\n",
    "  },\n",
    "  {\n",
    "    \"op\": \"core/column-removal\",\n",
    "    \"columnName\": \"First and Middle Name\",\n",
    "    \"description\": \"Remove column First and Middle Name\"\n",
    "  },\n",
    "  {\n",
    "    \"op\": \"core/column-rename\",\n",
    "    \"oldColumnName\": \"Spouse\",\n",
    "    \"newColumnName\": \"First and Middle Name\",\n",
    "    \"description\": \"Rename column Spouse to First and Middle Name\"\n",
    "  },\n",
    "  {\n",
    "    \"op\": \"core/column-rename\",\n",
    "    \"oldColumnName\": \"First and Middle Name 1\",\n",
    "    \"newColumnName\": \"Spouse\",\n",
    "    \"description\": \"Rename column First and Middle Name 1 to Spouse\"\n",
    "  },\n",
    "  {\n",
    "    \"op\": \"core/mass-edit\",\n",
    "    \"engineConfig\": {\n",
    "      \"facets\": [],\n",
    "      \"mode\": \"row-based\"\n",
    "    },\n",
    "    \"columnName\": \"Title\",\n",
    "    \"expression\": \"value\",\n",
    "    \"edits\": [\n",
    "      {\n",
    "        \"from\": [\n",
    "          \"Mr\"\n",
    "        ],\n",
    "        \"fromBlank\": false,\n",
    "        \"fromError\": false,\n",
    "        \"to\": \"Mrs\"\n",
    "      }\n",
    "    ],\n",
    "    \"description\": \"Mass edit cells in column Title\"\n",
    "  },\n",
    "  {\n",
    "    \"op\": \"core/mass-edit\",\n",
    "    \"engineConfig\": {\n",
    "      \"facets\": [],\n",
    "      \"mode\": \"row-based\"\n",
    "    },\n",
    "    \"columnName\": \"Title\",\n",
    "    \"expression\": \"value\",\n",
    "    \"edits\": [\n",
    "      {\n",
    "        \"from\": [\n",
    "          \"Rev\"\n",
    "        ],\n",
    "        \"fromBlank\": false,\n",
    "        \"fromError\": false,\n",
    "        \"to\": \"Mrs\"\n",
    "      }\n",
    "    ],\n",
    "    \"description\": \"Mass edit cells in column Title\"\n",
    "  },\n",
    "  {\n",
    "    \"op\": \"core/column-move\",\n",
    "    \"columnName\": \"First and Middle Name\",\n",
    "    \"index\": 5,\n",
    "    \"description\": \"Move column First and Middle Name to position 5\"\n",
    "  },\n",
    "  {\n",
    "    \"op\": \"core/column-move\",\n",
    "    \"columnName\": \"First and Middle Name\",\n",
    "    \"index\": 4,\n",
    "    \"description\": \"Move column First and Middle Name to position 4\"\n",
    "  },\n",
    "  {\n",
    "    \"op\": \"core/column-move\",\n",
    "    \"columnName\": \"First and Middle Name\",\n",
    "    \"index\": 3,\n",
    "    \"description\": \"Move column First and Middle Name to position 3\"\n",
    "  },\n",
    "  {\n",
    "    \"op\": \"core/column-move\",\n",
    "    \"columnName\": \"Spouse\",\n",
    "    \"index\": 5,\n",
    "    \"description\": \"Move column Spouse to position 5\"\n",
    "  },\n",
    "  {\n",
    "    \"op\": \"core/column-move\",\n",
    "    \"columnName\": \"Spouse\",\n",
    "    \"index\": 6,\n",
    "    \"description\": \"Move column Spouse to position 6\"\n",
    "  },\n",
    "  {\n",
    "    \"op\": \"core/column-addition\",\n",
    "    \"engineConfig\": {\n",
    "      \"facets\": [],\n",
    "      \"mode\": \"row-based\"\n",
    "    },\n",
    "    \"baseColumnName\": \"Job\",\n",
    "    \"expression\": \"grel:null\",\n",
    "    \"onError\": \"set-to-blank\",\n",
    "    \"newColumnName\": \"Job 1\",\n",
    "    \"columnInsertIndex\": 9,\n",
    "    \"description\": \"Create column Job 1 at index 9 based on column Job using expression grel:null\"\n",
    "  },\n",
    "  {\n",
    "    \"op\": \"core/column-removal\",\n",
    "    \"columnName\": \"Job\",\n",
    "    \"description\": \"Remove column Job\"\n",
    "  },\n",
    "  {\n",
    "    \"op\": \"core/column-rename\",\n",
    "    \"oldColumnName\": \"Job 1\",\n",
    "    \"newColumnName\": \"Job\",\n",
    "    \"description\": \"Rename column Job 1 to Job\"\n",
    "  },\n",
    "  {\n",
    "    \"op\": \"core/column-addition\",\n",
    "    \"engineConfig\": {\n",
    "      \"facets\": [],\n",
    "      \"mode\": \"row-based\"\n",
    "    },\n",
    "    \"baseColumnName\": \"Company\",\n",
    "    \"expression\": \"grel:null\",\n",
    "    \"onError\": \"set-to-blank\",\n",
    "    \"newColumnName\": \"Company 1\",\n",
    "    \"columnInsertIndex\": 10,\n",
    "    \"description\": \"Create column Company 1 at index 10 based on column Company using expression grel:null\"\n",
    "  },\n",
    "  {\n",
    "    \"op\": \"core/column-removal\",\n",
    "    \"columnName\": \"Company\",\n",
    "    \"description\": \"Remove column Company\"\n",
    "  },\n",
    "  {\n",
    "    \"op\": \"core/column-rename\",\n",
    "    \"oldColumnName\": \"Company 1\",\n",
    "    \"newColumnName\": \"Company\",\n",
    "    \"description\": \"Rename column Company 1 to Company\"\n",
    "  },\n",
    "  {\n",
    "    \"op\": \"core/column-addition\",\n",
    "    \"engineConfig\": {\n",
    "      \"facets\": [],\n",
    "      \"mode\": \"row-based\"\n",
    "    },\n",
    "    \"baseColumnName\": \"Company Details\",\n",
    "    \"expression\": \"grel:null\",\n",
    "    \"onError\": \"set-to-blank\",\n",
    "    \"newColumnName\": \"Company Details 1\",\n",
    "    \"columnInsertIndex\": 11,\n",
    "    \"description\": \"Create column Company Details 1 at index 11 based on column Company Details using expression grel:null\"\n",
    "  },\n",
    "  {\n",
    "    \"op\": \"core/column-removal\",\n",
    "    \"columnName\": \"Company Details\",\n",
    "    \"description\": \"Remove column Company Details\"\n",
    "  },\n",
    "  {\n",
    "    \"op\": \"core/column-rename\",\n",
    "    \"oldColumnName\": \"Company Details 1\",\n",
    "    \"newColumnName\": \"Company Details\",\n",
    "    \"description\": \"Rename column Company Details 1 to Company Details\"\n",
    "  }\n",
    "]"
   ]
  },
  {
   "cell_type": "markdown",
   "id": "chronic-purchase",
   "metadata": {},
   "source": [
    "I exported this data set as All Married Women. But there was one wrinkle: The few women who were listed under their own names *and* under their husbands' names now had duplicate entries. In the interest of preserving as much data as possible for each of them, I decided to manually dedupe the data in Excel. I color coded the 205 Title = \"Mrs\" rows from the original data set and went down the list, combining rows as needed, incorporating several dozen duplicate entries.\n",
    "\n",
    "This process meant looking more closely at the data, and in doing so, I noticed a pattern: All of the duplicate entries were for white women, specifically. Could there really be no married Black women listed under their own names in the directory?\n",
    "\n",
    "In a later round of deduping, I would learn that a total of six married Black women did in fact have their own entries. But there was no way to discern that from the data set at this point, because none of those six women were listed as \"Mrs.\" In fact, apart from a few presumably-masculine Reverends and the married men listed with their wives, **there were no overt markers of gender or gendered social status for any of the Black citizens in the directory.**"
   ]
  },
  {
   "cell_type": "code",
   "execution_count": 2,
   "id": "91e04d3a-b347-4b54-ad9a-619d90604702",
   "metadata": {
    "tags": []
   },
   "outputs": [
    {
     "data": {
      "text/html": [
       "<div class='tableauPlaceholder' id='viz1683757139251' style='position: relative'><noscript><a href='#'><img alt='Lack of Data on Black Women&#39;s MaritalStatus in the Charlotte 1911 Directory ' src='https:&#47;&#47;public.tableau.com&#47;static&#47;images&#47;Ch&#47;Charlotte1911visualizationfromoriginaldataset&#47;Sheet1&#47;1_rss.png' style='border: none' /></a></noscript><object class='tableauViz'  style='display:none;'><param name='host_url' value='https%3A%2F%2Fpublic.tableau.com%2F' /> <param name='embed_code_version' value='3' /> <param name='site_root' value='' /><param name='name' value='Charlotte1911visualizationfromoriginaldataset&#47;Sheet1' /><param name='tabs' value='no' /><param name='toolbar' value='yes' /><param name='static_image' value='https:&#47;&#47;public.tableau.com&#47;static&#47;images&#47;Ch&#47;Charlotte1911visualizationfromoriginaldataset&#47;Sheet1&#47;1.png' /> <param name='animate_transition' value='yes' /><param name='display_static_image' value='yes' /><param name='display_spinner' value='yes' /><param name='display_overlay' value='yes' /><param name='display_count' value='yes' /><param name='language' value='en-US' /></object></div>                <script type='text/javascript'>                    var divElement = document.getElementById('viz1683757139251');                    var vizElement = divElement.getElementsByTagName('object')[0];                    vizElement.style.width='100%';vizElement.style.height=(divElement.offsetWidth*0.75)+'px';                    var scriptElement = document.createElement('script');                    scriptElement.src = 'https://public.tableau.com/javascripts/api/viz_v1.js';                    vizElement.parentNode.insertBefore(scriptElement, vizElement);                </script>\n"
      ],
      "text/plain": [
       "<IPython.core.display.HTML object>"
      ]
     },
     "metadata": {},
     "output_type": "display_data"
    }
   ],
   "source": [
    "%%HTML\n",
    "<div class='tableauPlaceholder' id='viz1683757139251' style='position: relative'><noscript><a href='#'><img alt='Lack of Data on Black Women&#39;s MaritalStatus in the Charlotte 1911 Directory ' src='https:&#47;&#47;public.tableau.com&#47;static&#47;images&#47;Ch&#47;Charlotte1911visualizationfromoriginaldataset&#47;Sheet1&#47;1_rss.png' style='border: none' /></a></noscript><object class='tableauViz'  style='display:none;'><param name='host_url' value='https%3A%2F%2Fpublic.tableau.com%2F' /> <param name='embed_code_version' value='3' /> <param name='site_root' value='' /><param name='name' value='Charlotte1911visualizationfromoriginaldataset&#47;Sheet1' /><param name='tabs' value='no' /><param name='toolbar' value='yes' /><param name='static_image' value='https:&#47;&#47;public.tableau.com&#47;static&#47;images&#47;Ch&#47;Charlotte1911visualizationfromoriginaldataset&#47;Sheet1&#47;1.png' /> <param name='animate_transition' value='yes' /><param name='display_static_image' value='yes' /><param name='display_spinner' value='yes' /><param name='display_overlay' value='yes' /><param name='display_count' value='yes' /><param name='language' value='en-US' /></object></div>                <script type='text/javascript'>                    var divElement = document.getElementById('viz1683757139251');                    var vizElement = divElement.getElementsByTagName('object')[0];                    vizElement.style.width='100%';vizElement.style.height=(divElement.offsetWidth*0.75)+'px';                    var scriptElement = document.createElement('script');                    scriptElement.src = 'https://public.tableau.com/javascripts/api/viz_v1.js';                    vizElement.parentNode.insertBefore(scriptElement, vizElement);                </script>"
   ]
  },
  {
   "cell_type": "markdown",
   "id": "trained-appointment",
   "metadata": {},
   "source": [
    "\n",
    "## Unmarried People and Widows"
   ]
  },
  {
   "cell_type": "markdown",
   "id": "varying-combination",
   "metadata": {},
   "source": [
    "When I split the original data set into two, I thought the subset with unmarried people and widows would be fairly straightforward to work with. I had planned to apply the same column transformations, populate widowhood status into the title column, ascertain which \"wid\" entries were widows vs. widowers, and then replace remaining nulls in the Title column with Mr.\n",
    "\n",
    "Needless to say, the archival silence of the absent \"Miss\" in entries for Black women necessitated a change in plans. The original strategy would have categorized only white women as Miss, erroneously labeling all unmarried Black women in the data set as Mr.\n",
    "\n",
    "So instead, I took the subset of this data set for which Black = TRUE and Widow = FALSE, and I went through it line by line. I added \"Miss\" in the Title column for every entry with a feminine name.\n",
    "\n",
    "As far as I can discern, there are 1,564 unmarried Black women represented in the Charlotte 1911 directory. But of course, that number isn't certain. Names are an imperfect indicator of gender. Willie, for example, is the first name of 34 white people listed in the directory: 33 women and one man. Are the 10 unmarried Black registrants named Willie all women? I assumed so for the purpose of coding the data, but there's simply no way to be sure. Context can help to fill in the gaps created by this archival silence, but not without assumptions and the risk of error.\n",
    "\n",
    "The graph below, created from the complete data set that was the end result of this project, reflects the educated guesses I made in coding this part of the data. Seven people have the title \"Unknown\" because I wasn't able to make a reasonably confident guess of their gender based on their name."
   ]
  },
  {
   "cell_type": "code",
   "execution_count": 1,
   "id": "former-oxygen",
   "metadata": {
    "tags": []
   },
   "outputs": [
    {
     "data": {
      "text/html": [
       "<div class='tableauPlaceholder' id='viz1683765473104' style='position: relative'><noscript><a href='#'><img alt='Charlotte 1911 Directory Data by Title and Race ' src='https:&#47;&#47;public.tableau.com&#47;static&#47;images&#47;IN&#47;INST742FinalProjectCharlotte1911Data-TheLivesofWomen&#47;Sheet13&#47;1_rss.png' style='border: none' /></a></noscript><object class='tableauViz'  style='display:none;'><param name='host_url' value='https%3A%2F%2Fpublic.tableau.com%2F' /> <param name='embed_code_version' value='3' /> <param name='site_root' value='' /><param name='name' value='INST742FinalProjectCharlotte1911Data-TheLivesofWomen&#47;Sheet13' /><param name='tabs' value='no' /><param name='toolbar' value='yes' /><param name='static_image' value='https:&#47;&#47;public.tableau.com&#47;static&#47;images&#47;IN&#47;INST742FinalProjectCharlotte1911Data-TheLivesofWomen&#47;Sheet13&#47;1.png' /> <param name='animate_transition' value='yes' /><param name='display_static_image' value='yes' /><param name='display_spinner' value='yes' /><param name='display_overlay' value='yes' /><param name='display_count' value='yes' /><param name='language' value='en-US' /><param name='filter' value='publish=yes' /></object></div>                <script type='text/javascript'>                    var divElement = document.getElementById('viz1683765473104');                    var vizElement = divElement.getElementsByTagName('object')[0];                    vizElement.style.width='100%';vizElement.style.height=(divElement.offsetWidth*0.75)+'px';                    var scriptElement = document.createElement('script');                    scriptElement.src = 'https://public.tableau.com/javascripts/api/viz_v1.js';                    vizElement.parentNode.insertBefore(scriptElement, vizElement);                </script>\n"
      ],
      "text/plain": [
       "<IPython.core.display.HTML object>"
      ]
     },
     "metadata": {},
     "output_type": "display_data"
    }
   ],
   "source": [
    "%%HTML\n",
    "<div class='tableauPlaceholder' id='viz1683765473104' style='position: relative'><noscript><a href='#'><img alt='Charlotte 1911 Directory Data by Title and Race ' src='https:&#47;&#47;public.tableau.com&#47;static&#47;images&#47;IN&#47;INST742FinalProjectCharlotte1911Data-TheLivesofWomen&#47;Sheet13&#47;1_rss.png' style='border: none' /></a></noscript><object class='tableauViz'  style='display:none;'><param name='host_url' value='https%3A%2F%2Fpublic.tableau.com%2F' /> <param name='embed_code_version' value='3' /> <param name='site_root' value='' /><param name='name' value='INST742FinalProjectCharlotte1911Data-TheLivesofWomen&#47;Sheet13' /><param name='tabs' value='no' /><param name='toolbar' value='yes' /><param name='static_image' value='https:&#47;&#47;public.tableau.com&#47;static&#47;images&#47;IN&#47;INST742FinalProjectCharlotte1911Data-TheLivesofWomen&#47;Sheet13&#47;1.png' /> <param name='animate_transition' value='yes' /><param name='display_static_image' value='yes' /><param name='display_spinner' value='yes' /><param name='display_overlay' value='yes' /><param name='display_count' value='yes' /><param name='language' value='en-US' /><param name='filter' value='publish=yes' /></object></div>                <script type='text/javascript'>                    var divElement = document.getElementById('viz1683765473104');                    var vizElement = divElement.getElementsByTagName('object')[0];                    vizElement.style.width='100%';vizElement.style.height=(divElement.offsetWidth*0.75)+'px';                    var scriptElement = document.createElement('script');                    scriptElement.src = 'https://public.tableau.com/javascripts/api/viz_v1.js';                    vizElement.parentNode.insertBefore(scriptElement, vizElement);                </script>"
   ]
  },
  {
   "cell_type": "markdown",
   "id": "taken-silver",
   "metadata": {},
   "source": [
    "Having manually filled in the missing \"Miss\" designations, I returned to my original plan for this subset of the data. I opened the All Unmarried and Widowed data set in OpenRefine and applied the same column transformations I had used for the All Married Men data set such that this data set would have the same columns in the same order, to facilitate recombining everything later on. Then I faceted out the entries with \"wid\" and populated the Title column with \"Widow.\""
   ]
  },
  {
   "cell_type": "raw",
   "id": "extra-brother",
   "metadata": {},
   "source": [
    "[\n",
    "  {\n",
    "    \"op\": \"core/column-split\",\n",
    "    \"engineConfig\": {\n",
    "      \"facets\": [],\n",
    "      \"mode\": \"row-based\"\n",
    "    },\n",
    "    \"columnName\": \"Name\",\n",
    "    \"guessCellType\": true,\n",
    "    \"removeOriginalColumn\": true,\n",
    "    \"mode\": \"separator\",\n",
    "    \"separator\": \" \",\n",
    "    \"regex\": false,\n",
    "    \"maxColumns\": 2,\n",
    "    \"description\": \"Split column Name by separator\"\n",
    "  },\n",
    "  {\n",
    "    \"op\": \"core/column-rename\",\n",
    "    \"oldColumnName\": \"Name 1\",\n",
    "    \"newColumnName\": \"Last Name\",\n",
    "    \"description\": \"Rename column Name 1 to Last Name\"\n",
    "  },\n",
    "  {\n",
    "    \"op\": \"core/column-rename\",\n",
    "    \"oldColumnName\": \"Name 2\",\n",
    "    \"newColumnName\": \"First and Middle Name\",\n",
    "    \"description\": \"Rename column Name 2 to First and Middle Name\"\n",
    "  },\n",
    "  {\n",
    "    \"op\": \"core/fill-down\",\n",
    "    \"engineConfig\": {\n",
    "      \"facets\": [\n",
    "        {\n",
    "          \"type\": \"list\",\n",
    "          \"name\": \"Orig-copy\",\n",
    "          \"expression\": \"grel:value.contains(\\\"wid \\\")\",\n",
    "          \"columnName\": \"Orig-copy\",\n",
    "          \"invert\": false,\n",
    "          \"omitBlank\": false,\n",
    "          \"omitError\": false,\n",
    "          \"selection\": [\n",
    "            {\n",
    "              \"v\": {\n",
    "                \"v\": true,\n",
    "                \"l\": \"true\"\n",
    "              }\n",
    "            }\n",
    "          ],\n",
    "          \"selectBlank\": false,\n",
    "          \"selectError\": false\n",
    "        }\n",
    "      ],\n",
    "      \"mode\": \"row-based\"\n",
    "    },\n",
    "    \"columnName\": \"Title\",\n",
    "    \"description\": \"Fill down cells in column Title\"\n",
    "  },\n",
    "  {\n",
    "    \"op\": \"core/mass-edit\",\n",
    "    \"engineConfig\": {\n",
    "      \"facets\": [\n",
    "        {\n",
    "          \"type\": \"list\",\n",
    "          \"name\": \"Orig-copy\",\n",
    "          \"expression\": \"grel:value.contains(\\\"wid \\\")\",\n",
    "          \"columnName\": \"Orig-copy\",\n",
    "          \"invert\": false,\n",
    "          \"omitBlank\": false,\n",
    "          \"omitError\": false,\n",
    "          \"selection\": [\n",
    "            {\n",
    "              \"v\": {\n",
    "                \"v\": true,\n",
    "                \"l\": \"true\"\n",
    "              }\n",
    "            }\n",
    "          ],\n",
    "          \"selectBlank\": false,\n",
    "          \"selectError\": false\n",
    "        }\n",
    "      ],\n",
    "      \"mode\": \"row-based\"\n",
    "    },\n",
    "    \"columnName\": \"Title\",\n",
    "    \"expression\": \"value\",\n",
    "    \"edits\": [\n",
    "      {\n",
    "        \"from\": [\n",
    "          \"\"\n",
    "        ],\n",
    "        \"fromBlank\": true,\n",
    "        \"fromError\": false,\n",
    "        \"to\": \"Widow\"\n",
    "      }\n",
    "    ],\n",
    "    \"description\": \"Mass edit cells in column Title\"\n",
    "  },\n",
    "  {\n",
    "    \"op\": \"core/text-transform\",\n",
    "    \"engineConfig\": {\n",
    "      \"facets\": [],\n",
    "      \"mode\": \"row-based\"\n",
    "    },\n",
    "    \"columnName\": \"Title\",\n",
    "    \"expression\": \"join ([coalesce(cells['Title'].value,''),coalesce(cells['Married'].value,'')],'')\",\n",
    "    \"onError\": \"keep-original\",\n",
    "    \"repeat\": false,\n",
    "    \"repeatCount\": 10,\n",
    "    \"description\": \"Text transform on cells in column Title using expression join ([coalesce(cells['Title'].value,''),coalesce(cells['Married'].value,'')],'')\"\n",
    "  },\n",
    "  {\n",
    "    \"op\": \"core/column-removal\",\n",
    "    \"columnName\": \"Married\",\n",
    "    \"description\": \"Remove column Married\"\n",
    "  },\n",
    "  {\n",
    "    \"op\": \"core/mass-edit\",\n",
    "    \"engineConfig\": {\n",
    "      \"facets\": [\n",
    "        {\n",
    "          \"type\": \"list\",\n",
    "          \"name\": \"Orig-copy\",\n",
    "          \"expression\": \"grel:value.contains(\\\"wid \\\")\",\n",
    "          \"columnName\": \"Orig-copy\",\n",
    "          \"invert\": false,\n",
    "          \"omitBlank\": false,\n",
    "          \"omitError\": false,\n",
    "          \"selection\": [\n",
    "            {\n",
    "              \"v\": {\n",
    "                \"v\": false,\n",
    "                \"l\": \"false\"\n",
    "              }\n",
    "            }\n",
    "          ],\n",
    "          \"selectBlank\": false,\n",
    "          \"selectError\": false\n",
    "        }\n",
    "]"
   ]
  },
  {
   "cell_type": "markdown",
   "id": "discrete-poster",
   "metadata": {},
   "source": [
    "Looking at the Widow facet, I noticed two patterns. First, as with Miss and Mrs, the designation \"wid\" only appeared in entries for white citizens."
   ]
  },
  {
   "cell_type": "code",
   "execution_count": 3,
   "id": "quiet-superintendent",
   "metadata": {
    "tags": []
   },
   "outputs": [
    {
     "data": {
      "text/html": [
       "<div class='tableauPlaceholder' id='viz1683768140131' style='position: relative'><noscript><a href='#'><img alt='Another Data Limitation: Widowhood by Race ' src='https:&#47;&#47;public.tableau.com&#47;static&#47;images&#47;IN&#47;INST742FinalProjectCharlotte1911Data-TheLivesofWomen&#47;WidowhoodbyRace&#47;1_rss.png' style='border: none' /></a></noscript><object class='tableauViz'  style='display:none;'><param name='host_url' value='https%3A%2F%2Fpublic.tableau.com%2F' /> <param name='embed_code_version' value='3' /> <param name='site_root' value='' /><param name='name' value='INST742FinalProjectCharlotte1911Data-TheLivesofWomen&#47;WidowhoodbyRace' /><param name='tabs' value='no' /><param name='toolbar' value='yes' /><param name='static_image' value='https:&#47;&#47;public.tableau.com&#47;static&#47;images&#47;IN&#47;INST742FinalProjectCharlotte1911Data-TheLivesofWomen&#47;WidowhoodbyRace&#47;1.png' /> <param name='animate_transition' value='yes' /><param name='display_static_image' value='yes' /><param name='display_spinner' value='yes' /><param name='display_overlay' value='yes' /><param name='display_count' value='yes' /><param name='language' value='en-US' /><param name='filter' value='publish=yes' /></object></div>                <script type='text/javascript'>                    var divElement = document.getElementById('viz1683768140131');                    var vizElement = divElement.getElementsByTagName('object')[0];                    vizElement.style.width='100%';vizElement.style.height=(divElement.offsetWidth*0.75)+'px';                    var scriptElement = document.createElement('script');                    scriptElement.src = 'https://public.tableau.com/javascripts/api/viz_v1.js';                    vizElement.parentNode.insertBefore(scriptElement, vizElement);                </script>\n"
      ],
      "text/plain": [
       "<IPython.core.display.HTML object>"
      ]
     },
     "metadata": {},
     "output_type": "display_data"
    }
   ],
   "source": [
    "%%HTML\n",
    "<div class='tableauPlaceholder' id='viz1683768140131' style='position: relative'><noscript><a href='#'><img alt='Another Data Limitation: Widowhood by Race ' src='https:&#47;&#47;public.tableau.com&#47;static&#47;images&#47;IN&#47;INST742FinalProjectCharlotte1911Data-TheLivesofWomen&#47;WidowhoodbyRace&#47;1_rss.png' style='border: none' /></a></noscript><object class='tableauViz'  style='display:none;'><param name='host_url' value='https%3A%2F%2Fpublic.tableau.com%2F' /> <param name='embed_code_version' value='3' /> <param name='site_root' value='' /><param name='name' value='INST742FinalProjectCharlotte1911Data-TheLivesofWomen&#47;WidowhoodbyRace' /><param name='tabs' value='no' /><param name='toolbar' value='yes' /><param name='static_image' value='https:&#47;&#47;public.tableau.com&#47;static&#47;images&#47;IN&#47;INST742FinalProjectCharlotte1911Data-TheLivesofWomen&#47;WidowhoodbyRace&#47;1.png' /> <param name='animate_transition' value='yes' /><param name='display_static_image' value='yes' /><param name='display_spinner' value='yes' /><param name='display_overlay' value='yes' /><param name='display_count' value='yes' /><param name='language' value='en-US' /><param name='filter' value='publish=yes' /></object></div>                <script type='text/javascript'>                    var divElement = document.getElementById('viz1683768140131');                    var vizElement = divElement.getElementsByTagName('object')[0];                    vizElement.style.width='100%';vizElement.style.height=(divElement.offsetWidth*0.75)+'px';                    var scriptElement = document.createElement('script');                    scriptElement.src = 'https://public.tableau.com/javascripts/api/viz_v1.js';                    vizElement.parentNode.insertBefore(scriptElement, vizElement);                </script>"
   ]
  },
  {
   "cell_type": "markdown",
   "id": "present-request",
   "metadata": {},
   "source": [
    "The second pattern was a little bit more surprising to me, though perhaps it shouldn't have been. I initially assumed that some of the entries with the \"wid\" designation would be widowers, so I went through the names with the idea of updating \"Widow\" to \"Widower\" in the Title column wherever applicable. However, I found that all of the \"wid\" entries appeared to be for women - judging once again by the imperfect indicator of gendered names.\n",
    "\n",
    "This archival silence is perhaps less egregious and less impactful on the data than the others we've discussed, but it is nevertheless very revealing about the social structure of Charlotte in 1911. Even in death, white men conferred a certain social standing to their wives. The fact that only white men are memorialized in the directory in this way speaks to the racial and gendered hierarchies of the society that produced this primary source."
   ]
  },
  {
   "cell_type": "code",
   "execution_count": 4,
   "id": "dress-amber",
   "metadata": {
    "tags": []
   },
   "outputs": [
    {
     "data": {
      "text/html": [
       "<div class='tableauPlaceholder' id='viz1683768752139' style='position: relative'><noscript><a href='#'><img alt='&quot;Wid&quot;Designation Used Only for Women ' src='https:&#47;&#47;public.tableau.com&#47;static&#47;images&#47;IN&#47;INST742FinalProjectCharlotte1911Data-TheLivesofWomen&#47;WidWomenOnly&#47;1_rss.png' style='border: none' /></a></noscript><object class='tableauViz'  style='display:none;'><param name='host_url' value='https%3A%2F%2Fpublic.tableau.com%2F' /> <param name='embed_code_version' value='3' /> <param name='site_root' value='' /><param name='name' value='INST742FinalProjectCharlotte1911Data-TheLivesofWomen&#47;WidWomenOnly' /><param name='tabs' value='no' /><param name='toolbar' value='yes' /><param name='static_image' value='https:&#47;&#47;public.tableau.com&#47;static&#47;images&#47;IN&#47;INST742FinalProjectCharlotte1911Data-TheLivesofWomen&#47;WidWomenOnly&#47;1.png' /> <param name='animate_transition' value='yes' /><param name='display_static_image' value='yes' /><param name='display_spinner' value='yes' /><param name='display_overlay' value='yes' /><param name='display_count' value='yes' /><param name='language' value='en-US' /><param name='filter' value='publish=yes' /></object></div>                <script type='text/javascript'>                    var divElement = document.getElementById('viz1683768752139');                    var vizElement = divElement.getElementsByTagName('object')[0];                    vizElement.style.width='100%';vizElement.style.height=(divElement.offsetWidth*0.75)+'px';                    var scriptElement = document.createElement('script');                    scriptElement.src = 'https://public.tableau.com/javascripts/api/viz_v1.js';                    vizElement.parentNode.insertBefore(scriptElement, vizElement);                </script>\n"
      ],
      "text/plain": [
       "<IPython.core.display.HTML object>"
      ]
     },
     "metadata": {},
     "output_type": "display_data"
    }
   ],
   "source": [
    "%%HTML\n",
    "<div class='tableauPlaceholder' id='viz1683768752139' style='position: relative'><noscript><a href='#'><img alt='&quot;Wid&quot;Designation Used Only for Women ' src='https:&#47;&#47;public.tableau.com&#47;static&#47;images&#47;IN&#47;INST742FinalProjectCharlotte1911Data-TheLivesofWomen&#47;WidWomenOnly&#47;1_rss.png' style='border: none' /></a></noscript><object class='tableauViz'  style='display:none;'><param name='host_url' value='https%3A%2F%2Fpublic.tableau.com%2F' /> <param name='embed_code_version' value='3' /> <param name='site_root' value='' /><param name='name' value='INST742FinalProjectCharlotte1911Data-TheLivesofWomen&#47;WidWomenOnly' /><param name='tabs' value='no' /><param name='toolbar' value='yes' /><param name='static_image' value='https:&#47;&#47;public.tableau.com&#47;static&#47;images&#47;IN&#47;INST742FinalProjectCharlotte1911Data-TheLivesofWomen&#47;WidWomenOnly&#47;1.png' /> <param name='animate_transition' value='yes' /><param name='display_static_image' value='yes' /><param name='display_spinner' value='yes' /><param name='display_overlay' value='yes' /><param name='display_count' value='yes' /><param name='language' value='en-US' /><param name='filter' value='publish=yes' /></object></div>                <script type='text/javascript'>                    var divElement = document.getElementById('viz1683768752139');                    var vizElement = divElement.getElementsByTagName('object')[0];                    vizElement.style.width='100%';vizElement.style.height=(divElement.offsetWidth*0.75)+'px';                    var scriptElement = document.createElement('script');                    scriptElement.src = 'https://public.tableau.com/javascripts/api/viz_v1.js';                    vizElement.parentNode.insertBefore(scriptElement, vizElement);                </script>"
   ]
  },
  {
   "cell_type": "markdown",
   "id": "metropolitan-gates",
   "metadata": {},
   "source": [
    "## The Final, But Not Necessarily Complete, Data Set"
   ]
  },
  {
   "cell_type": "markdown",
   "id": "alike-concentrate",
   "metadata": {},
   "source": [
    "Having populated the Title column for every entry in the All Unmarried and Widowed data set, I had three subsets ready to be recombined into one large data set. I made a few more additions to each in OpenRefine - a column for Gender, a column for Housing Type, and a column indicating whether business address and home address were the same - and then brought it all back together.\n",
    "\n",
    "[FullFinalDataSet.xlsx](./FullFinalDataSet.xlsx)\n",
    "\n",
    "With the business directory rows eliminated and rows for married women added, my final data set describes 20,554 people. As such, it is a more complete picture of the population of 1911 Charlotte than the original data set was. However, it reifies assumptions that may not accurately represent the facts, and even with the guesses filled in, it undoubtedly still has gaps. Why do only some of the women listed under their own names as Mrs. have corresponding entries for their husbands? How did the original compilers of the directory gather data? Who might they have accidentally or deliberately omitted, and why?\n",
    "\n",
    "The archival silences present in this primary source give information, by their very existence, about the racial and gendered hierarchies that pervaded the society described by this source. They also highlight the importance of triangulating multiple data sets and approaching *any* historical data analysis with a firm grounding in the data's historical context."
   ]
  }
 ],
 "metadata": {
  "kernelspec": {
   "display_name": "Python 3 (ipykernel)",
   "language": "python",
   "name": "python3"
  },
  "language_info": {
   "codemirror_mode": {
    "name": "ipython",
    "version": 3
   },
   "file_extension": ".py",
   "mimetype": "text/x-python",
   "name": "python",
   "nbconvert_exporter": "python",
   "pygments_lexer": "ipython3",
   "version": "3.11.5"
  }
 },
 "nbformat": 4,
 "nbformat_minor": 5
}
