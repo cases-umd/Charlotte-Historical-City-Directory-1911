{
 "cells": [
  {
   "cell_type": "markdown",
   "id": "welcome-malaysia",
   "metadata": {},
   "source": [
    "# Visualizing Neighborhood Demographics:\n",
    "## A Case Study Using the 1911 Charlotte City Directory\n",
    "\n",
    "This Jupyter Notebook outlines a project undertaken to better understand the data contained in the 1911 Charlotte City Directory, which has been digitized and uploaded onto the Internet Archive. The ultimate goal of this project was to take the addresses listed for everyone in the directory, find the areas of Charlotte that were the most heavily populated, and identify demographic trends across those different areas, paying special attention to any patterns that came up along the way. \n",
    "\n",
    "This project utilizes three different tools to edit, clean, map, and visualize this data: OpenRefine, QGIS, and Tableau. These three tools are descirbed briefly below, and each of their respective involvements in this particular project is outlined in the following notebooks. In the final notebook, there is a Tableau Public Story outlining my findings.\n",
    "\n",
    "The general formatting of this notebook, along with general information about Tableau Public, was adopted from a notebook created by students in a previous instantiation of INST742: Sara Ludewig, Emily Moore, & Phillip Nicholas"
   ]
  },
  {
   "cell_type": "markdown",
   "id": "virgin-chassis",
   "metadata": {},
   "source": [
    "* Contributors: Henry Kemp\n",
    "* Source Available: https://archive.org/details/charlottenorthca1911pied\n",
    "* License: [Creative Commons - Attribute 4.0 Intl](https://creativecommons.org/licenses/by/4.0/)\n",
    "* Attribution: This work is based upon digital assignments completed by MLIS Students in INST742: Implementing Digital Curation"
   ]
  },
  {
   "cell_type": "markdown",
   "id": "bb209b83-7f01-49f4-bdf2-f2e5ab964b61",
   "metadata": {},
   "source": [
    "## 9. Visualizing Neighborhood Demographics:\n",
    "* **Author:** Henry Kemp\n",
    "* **Abstract:** Looking at heavily populated neighborhoods of Charlotte through the geocoding of historical addresses in QGIS.\n",
    "* **Dataset:** Full datified Directory (16,000 entries), Sanborn maps, 1910 Census\n",
    "* **Tools:** OpenRefine, QGIS, Tableau\n",
    "* **Video:** https://youtu.be/85-qL-VBY14 (12′ 04″)"
   ]
  },
  {
   "cell_type": "markdown",
   "id": "nominated-convenience",
   "metadata": {},
   "source": [
    "<h3>A Brief Outline</h3>"
   ]
  },
  {
   "cell_type": "markdown",
   "id": "weird-destiny",
   "metadata": {},
   "source": [
    "The goal of this project was to come up with a different way of conceptualizing the raw data of around 16,000 residents listed in the 1911 Charlotte City Directory. As a class, we have worked with this data through a number of different computational tools, manipulating and analyzing it using a variety of different methods. My intention was to use several of these different tools to take a closer look at the demographic information of different neighborhoods in Charlotte, and compare those neighborhoods to each other, as well as against the profile of the entire dataset.\n",
    "\n",
    "I ultimately wanted to use Tableau to visually represent the demographic information across the different neighborhoods, but I recognized that I would need to do some work on the front end in order to get there. First, I needed to run the data through OpenRefine in order to clean up the address field into a format that I could process with a geocoding tool, to find latitude and longtiude coordinates for each address. Once I accomplished that, I plugged those addresses into QGIS' geocoding tool and mapped the subsequent plot of addresses onto a map of modern-day Charlotte to identify population centers. Finally, I was able to take those individual population centers, divide them into their own spreadsheets, and upload the data into Tableau to create visual representations of the different neighborhoods.\n",
    "\n",
    "The following notebooks will walk through each of these steps in greater detail."
   ]
  },
  {
   "cell_type": "markdown",
   "id": "iraqi-ministry",
   "metadata": {},
   "source": [
    "<h3> Computational Thinking </h3>\n",
    "    "
   ]
  },
  {
   "cell_type": "markdown",
   "id": "treated-ballot",
   "metadata": {},
   "source": [
    "This exercise utlizes the following elements of computational thinking. <br><br>\n",
    "Data Practices:\n",
    "<ul>\n",
    "    <li>Manipulating Data</li>\n",
    "    <li>Analyzing Data</li>\n",
    "    <li>Visualizing Data</li>\n",
    "</ul>\n",
    "Computational Porblem Solving Practices:\n",
    "<ul>\n",
    "    <li>Choosing Effective Computational Tools</li>\n",
    "</ul>\n",
    "Systems Thinking Practices:\n",
    "<ul>\n",
    "    <li>Understanding Relationships within Systems</li>\n",
    "    <li>Thinking in Levels</li>\n"
   ]
  },
  {
   "cell_type": "markdown",
   "id": "bound-archives",
   "metadata": {},
   "source": [
    "<h3>Background on Computational Tools Used in this Project<h3>"
   ]
  },
  {
   "cell_type": "markdown",
   "id": "absent-azerbaijan",
   "metadata": {},
   "source": [
    "<h4>OpenRefine</h4>"
   ]
  },
  {
   "cell_type": "markdown",
   "id": "brief-offering",
   "metadata": {},
   "source": [
    "OpenRefine is a free, open-source tool used for cleaning large amounts of raw data. Using this tool, data can be manipulated at will by the user in easier ways than other spreadsheet tools, such as Excel or Numbers. General trends across certain categories of data can be automatically recognized and grouped together, and similarly-formatted pieces of data can all be manipulated in the same way with a single command. In addition, all the data manipulation takes place locally, on your device, so there is no risk of any unwanted parties having access to your data. Several important functionalities of OpenRefine are listed on their main page:\n",
    "\n",
    "![Summary of OpenRefine Capabilities](Images/Henry/ORInfo.png)\n",
    "\n",
    "In this project, you will see exmaples of clustering and faceting, as well as see parts of the infinite undo/redo capabilities OpenRefine offers."
   ]
  },
  {
   "cell_type": "markdown",
   "id": "occupational-desperate",
   "metadata": {},
   "source": [
    "More information about OpenRefine can be found [here.](https://openrefine.org/docs)"
   ]
  },
  {
   "cell_type": "markdown",
   "id": "funny-reduction",
   "metadata": {},
   "source": [
    "<h4>QGIS</h4>"
   ]
  },
  {
   "cell_type": "markdown",
   "id": "excellent-bullet",
   "metadata": {},
   "source": [
    "QGIS is a free, open-source georgaphic information system application.\n",
    "\n",
    "![QGIS Information](Images/Henry/QGISInfo.png)\n",
    "\n",
    "It has many uses, and is constantly growing in scope and scale thanks to the determined commitment of volunteers. Among its primary uses is the map-based representation of data. In the scope of this project, it is used to determine latitude and longitude coordinates from a set of residential addresses, and then visually represent a plot of those lat/long points onto a map of modern-day Charlotte."
   ]
  },
  {
   "cell_type": "markdown",
   "id": "critical-giant",
   "metadata": {},
   "source": [
    "More information about QGIS can be found [here.](https://docs.qgis.org/3.28/en/docs/user_manual/)"
   ]
  },
  {
   "cell_type": "markdown",
   "id": "intermediate-isolation",
   "metadata": {},
   "source": [
    "<h4>Tableau Public</h4><br>\n",
    "\n",
    "Purpose\n",
    "\n",
    "Tableau is a data visualization software that can be used to contextualize data, especially trends, by creating visualizations, which are shared on the web.\n",
    "\n",
    "[This video](https://www.youtube.com/watch?v=iT1iHLGawIM) shows the process for how to open data, create visualizations, and publish to the web.\n",
    "\n",
    "Strengths\n",
    "<ul>\n",
    "    <li>Intuitive design and layout</li>\n",
    "    <li>Varied levels of complexity and purpose (sheets, dashboards, stories)</li>\n",
    "    <li>Demonstrates relationships between variables</li>\n",
    "    <li>Visualizes patterns and themes</li>\n",
    "    <li>Good at demonstrating relationships between data points</li>\n",
    " </ul>\n",
    " Weaknesses\n",
    " <ul>\n",
    "    <li>Not free - 14 day trial</li>\n",
    "    <li>Often not as comprehensive or user-friendly as advertised</li>\n",
    "    <li>Works better on quantitative data than qualitative data</li>\n",
    "    <li>Focused on numerical trends and analytics with limited focus on narrative or observative data</li>\n",
    "</u>"
   ]
  },
  {
   "cell_type": "markdown",
   "id": "premium-criticism",
   "metadata": {},
   "source": [
    "More information about Tableau can be found [here.](https://help.tableau.com/current/pro/desktop/en-us/gettingstarted_overview.htm)"
   ]
  },
  {
   "cell_type": "markdown",
   "id": "bizarre-trick",
   "metadata": {},
   "source": [
    "<h3>Notebooks<h3>"
   ]
  },
  {
   "cell_type": "markdown",
   "id": "weird-motion",
   "metadata": {},
   "source": [
    "1. [Open Refine](OpenRefine.ipynb)\n",
    "2. [QGIS](QGIS.ipynb)\n",
    "3. [Tableau](Tableau.ipynb)\n",
    "\n",
    "Next Step: [Open Refine](OpenRefine.ipynb)"
   ]
  }
 ],
 "metadata": {
  "kernelspec": {
   "display_name": "Python 3 (ipykernel)",
   "language": "python",
   "name": "python3"
  },
  "language_info": {
   "codemirror_mode": {
    "name": "ipython",
    "version": 3
   },
   "file_extension": ".py",
   "mimetype": "text/x-python",
   "name": "python",
   "nbconvert_exporter": "python",
   "pygments_lexer": "ipython3",
   "version": "3.11.5"
  }
 },
 "nbformat": 4,
 "nbformat_minor": 5
}
