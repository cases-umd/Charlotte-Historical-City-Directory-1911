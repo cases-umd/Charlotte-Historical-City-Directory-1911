{
 "cells": [
  {
   "cell_type": "markdown",
   "id": "completed-tomato",
   "metadata": {},
   "source": [
    "# Race, Marriage, and Profession: Data at Scale Test Case Charlotte NC Directory 1911:\n",
    "### A Case Study Using A 1911 Charlotte City Directory and Tableau "
   ]
  },
  {
   "cell_type": "markdown",
   "id": "median-cream",
   "metadata": {},
   "source": [
    "* Creator: Isaiah Cornfield\n",
    "* Source Available: https://archive.org/details/charlottenorthca1911pied\n",
    "* Attribution: This work is based upon digital assignments completed in Spring 2023 in INST742: Implementing Digital Curation "
   ]
  },
  {
   "cell_type": "markdown",
   "id": "b1af6afa-e1aa-43c8-ab3e-b5c31cb66b69",
   "metadata": {},
   "source": [
    "## 10. Race, Marriage, and Profession: Data at Scale Test Case:\n",
    "* **Author:** Isaiah Cornfield\n",
    "* **Abstract:** Visualizing correlations between race, employment, and marital status.\n",
    "* **Dataset:** Full datified Directory (16,000 entries)\n",
    "* **Tools:** OpenRefine, Tableau\n",
    "* **Video:** https://youtu.be/hyeYfOKnFBs (7′ 41″)"
   ]
  },
  {
   "cell_type": "markdown",
   "id": "flush-belfast",
   "metadata": {},
   "source": [
    "<h3> Computational Thinking </h3>\n",
    "    "
   ]
  },
  {
   "cell_type": "markdown",
   "id": "broad-litigation",
   "metadata": {},
   "source": [
    "For this project I focused on I focused on employing these Computational Thinking Skill's...\n",
    "\n",
    "Data Practices:\n",
    "<ul>\n",
    "    <li>Manipulating data</li>\n",
    "    <li>Analyzing data</li>\n",
    "    <li>Visualizing data</li>\n",
    "</ul>\n",
    "Modeling and Simulation Practices:\n",
    "<ul>\n",
    "    <li>Using Computational Models to Understand a Concept</li>\n",
    "</ul>\n",
    "Computational Problem Solving Practices:\n",
    "<ul>\n",
    "    <li>Creating Computational Abstractions</li>\n",
    "</ul>\n",
    "Systems Thinking Practices:\n",
    "<ul>\n",
    "    <li>Thinking in Levels</li>\n",
    "    <li>Communicating Information about a System</li>"
   ]
  },
  {
   "cell_type": "markdown",
   "id": "returning-banner",
   "metadata": {},
   "source": [
    "### Introduction to Charlotte City Directory\n",
    "\n",
    "![Charlotte_City_Directory.png](Images/Charlotte_City_Directory.png)\n",
    "\n",
    "The Charlottle City Directory which is serving as the source for this projects dataset is a listing of individuals and organizations which resided within the city of Charlottle NC in the year 1911. The Directory provides a number important information catigories. Important for this project are the **Race, Job, and Spouse** catigories. The Directorys also provide a number of other information catigories like **address, type of living arragnment, and associated companies**. The Directory is listed in alphabetic and thematic order, according to lastnames in residential household.\n",
    "\n",
    "The 1911 Charlottle City Directory which we will be looking at today is avaiable in digitized copy through the Internet Archive alongside numerious other similar Charlottle directories from different dates, before and after 1911. \n",
    "\n",
    "In this Tableau presentation I will be analyzing data taken from the Charlottle Directory and then put through OpenRefine for cleaning and seperating, and then downloaded as a excel file and brought to Tableau. "
   ]
  },
  {
   "cell_type": "markdown",
   "id": "productive-drain",
   "metadata": {},
   "source": [
    "<h3>Strength and Weaknesses of the Project</h3>"
   ]
  },
  {
   "cell_type": "markdown",
   "id": "functioning-institute",
   "metadata": {},
   "source": [
    "Strengths of the project \n",
    "<ul>\n",
    "    <li>Varied dataset</li>\n",
    "    <li>Large but geographically centralized dataset</li>\n",
    "    <li>Tableau offers easily readable visualization for broad data-points</li>\n",
    "    <li>Tableau is good at portraying the relationships between large variable groups</li>\n",
    " </ul>\n",
    " Weaknesses of the project\n",
    " <ul>\n",
    "    <li>The dataset likely has mistakes in it as there is inconsistent formatting within the orginal Directory</li>\n",
    "    <li>Certain Information is left out of the dataset, in particualar in the Spouse category that measures men with spouses, and so we are left with an unclear picture of the women in the scenario, importantly in this case is if they worked</li>\n",
    "    <li>Tableau has a cumbersome presentation when dealing with minute aspects of data</li>\n",
    "    <li>Primarily looking at large-scale trends and/or smaller numerical trends, therefore the visulization are hard to personalize to tell specific stories</li>\n",
    "</u>"
   ]
  },
  {
   "cell_type": "markdown",
   "id": "copyrighted-defeat",
   "metadata": {},
   "source": [
    "<h3>Objectives</h3>"
   ]
  },
  {
   "cell_type": "markdown",
   "id": "neutral-stage",
   "metadata": {},
   "source": [
    "<ol>\n",
    "    <li>Explore the Functionality of Tableau visualizations in simplifing large datasets </li>\n",
    "    <li>Explore the connections between Race, Marriage, and Work</li>"
   ]
  },
  {
   "cell_type": "markdown",
   "id": "ideal-filename",
   "metadata": {},
   "source": [
    "<h3>Noebooks</h3>"
   ]
  },
  {
   "cell_type": "markdown",
   "id": "destroyed-visibility",
   "metadata": {},
   "source": [
    "1. [IntroSheets](IntroSheets.ipynb)\n",
    "2. [Dashboard](CombinedDataSheets.ipynb)\n",
    "3. [Stories](Conclusions.ipynb)\n",
    "\n",
    "Next: [IntroSheets](IntroSheets.ipynb)"
   ]
  }
 ],
 "metadata": {
  "kernelspec": {
   "display_name": "Python 3 (ipykernel)",
   "language": "python",
   "name": "python3"
  },
  "language_info": {
   "codemirror_mode": {
    "name": "ipython",
    "version": 3
   },
   "file_extension": ".py",
   "mimetype": "text/x-python",
   "name": "python",
   "nbconvert_exporter": "python",
   "pygments_lexer": "ipython3",
   "version": "3.11.5"
  }
 },
 "nbformat": 4,
 "nbformat_minor": 5
}
