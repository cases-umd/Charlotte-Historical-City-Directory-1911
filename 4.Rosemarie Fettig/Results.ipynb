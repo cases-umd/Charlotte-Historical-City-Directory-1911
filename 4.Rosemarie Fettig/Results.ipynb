{
 "cells": [
  {
   "cell_type": "markdown",
   "id": "binding-vertex",
   "metadata": {},
   "source": [
    "# Results\n",
    "\n",
    "## Sample Queries\n",
    "\n",
    "To explore the data model I created once it was populated with the directory data, I ran two sets of sample queries - the first set was queries I ran in the original assignment, and the second were new queries created for this project.\n",
    "\n",
    "### Old Queries Rerun\n",
    "\n",
    "The first query I wanted to re-test was one that investigated relationships between a person's marital status and their address and type of dwelling. "
   ]
  },
  {
   "cell_type": "code",
   "execution_count": null,
   "id": "eligible-comment",
   "metadata": {},
   "outputs": [],
   "source": [
    "#returns marital status, person, dwelling type\n",
    "MATCH (m:MaritalStatus)-[ms:HasMaritalStatus]-(p:Person)-[la:LivesAt]-(a:Address)-[ia:IsA]-(d:Dwelling)\n",
    "RETURN m, ms, p, la, a, ia, d"
   ]
  },
  {
   "cell_type": "markdown",
   "id": "czech-slide",
   "metadata": {},
   "source": [
    "With the new version of the database, the result graph looks something like this:\n",
    "\n",
    "![MaritalStatus_Dwelling](Images/MaritalStatus_Dwelling.png)\n",
    "\n",
    "Not only is this graph more spaced out and easier to visually dissect, it also provides a more accurate sense of the number of individuals living in each type of dwelling because spouses appear as distinct nodes.\n",
    "\n",
    "The second rerun query investigated relationships between marital status and race:"
   ]
  },
  {
   "cell_type": "code",
   "execution_count": null,
   "id": "valuable-porter",
   "metadata": {},
   "outputs": [],
   "source": [
    "#returns person, marital status, race\n",
    "MATCH (m:MaritalStatus)-[ms:HasMaritalStatus]-(p:Person)-[hr:HasRace]-(r:Race) \n",
    "RETURN p, hr, r, m, ms"
   ]
  },
  {
   "cell_type": "markdown",
   "id": "offensive-village",
   "metadata": {},
   "source": [
    "resulting in the following graph:\n",
    "\n",
    "![MaritalStatus_Race](Images/MaritalStatus_Race.png)\n",
    "\n",
    "This one didn't have as dramatic of a change, because as previously mentioned, I did not assume the race of any spouses. However, it does still appear more streamlined because the Person nodes are connected to the MaritalStatus nodes, and not combined MaritalStatus/Spouse nodes."
   ]
  },
  {
   "cell_type": "markdown",
   "id": "legal-collective",
   "metadata": {},
   "source": [
    "### New Queries\n",
    "\n",
    "The following queries were created specifically to test the capabilities of this data model. While they're not particularly complex, I feel that they do a good job of demonstrating the additional aspects of the dataset that can be accessed through this data model."
   ]
  },
  {
   "cell_type": "code",
   "execution_count": null,
   "id": "mobile-montgomery",
   "metadata": {},
   "outputs": [],
   "source": [
    "#view person to person relationships\n",
    "MATCH (p1:Person) - [] - (p2: Person)\n",
    "RETURN p1, p2"
   ]
  },
  {
   "cell_type": "markdown",
   "id": "established-broadcasting",
   "metadata": {},
   "source": [
    "![PersonToPerson](Images/PersonToPerson.png)\n",
    "\n",
    "While this result graph isn't particularly exciting, the fact that I was able to generate it at all demonstrates that the data model created for this project works as intended."
   ]
  },
  {
   "cell_type": "code",
   "execution_count": null,
   "id": "convinced-balance",
   "metadata": {},
   "outputs": [],
   "source": [
    "#jobs held by married people\n",
    "MATCH (m:MaritalStatus {MaritalType: 'Married'})-[ms:HasMaritalStatus]-(p:Person)-[hj:HasJob]-(j:Job)\n",
    "RETURN p, hj, j"
   ]
  },
  {
   "cell_type": "markdown",
   "id": "conscious-bundle",
   "metadata": {},
   "source": [
    "![MarriedJobs](Images/MarriedJobs.png)\n",
    "\n",
    "This query produced an interesting result because I chose not to display marital status nodes in the output graph, so we get a ring of unemployed wives in the center surrounded by an outer ring of their husbands and each man's job."
   ]
  },
  {
   "cell_type": "code",
   "execution_count": null,
   "id": "numerical-nature",
   "metadata": {},
   "outputs": [],
   "source": [
    "# returns person, address, dwelling type\n",
    "MATCH (p:Person)-[la:LivesAt]-(a:Address)-[ia:IsA]-(d:Dwelling)\n",
    "RETURN p, la, a, ia, d"
   ]
  },
  {
   "cell_type": "markdown",
   "id": "known-wrist",
   "metadata": {},
   "source": [
    "![PersonAddress](Images/PersonAddress.png)\n",
    "\n",
    "This query is a variation on one from the original assignment that was re-run above, omitting the Marital Status nodes. This provides a relatively tidy depiction of each household unit. "
   ]
  },
  {
   "cell_type": "markdown",
   "id": "successful-stanley",
   "metadata": {},
   "source": [
    "# Thoughts on Future Work\n",
    "\n",
    "## Expansion and Scalability\n",
    "\n",
    "It would certainly be possible to expand this project to encompass larger versions of the data set - either the 160 record set used for the original assignment or the full 16,000 record set. However, scalability may be difficult because the data manipulation had to be done manually in Excel. I was not able to use [OpenRefine](https://openrefine.org/) for this project because the data modifications I was executing involved the creation of a large number of new rows, and OpenRefine is not well suited to that. Given more time it may be possible to find an automated workaround for this issue, but it was not feasible within the time constraints of this iteration of the project.\n",
    "\n",
    "## Opening Up Historical Data\n",
    "\n",
    "As a proof of concept, this project and its resultant products provide compelling evidence that adjusting data models can open up historical datasets in new ways. Compared to the previously used model, the data model I created allows for queries that drill down deeper into the dataset, separating individual facets in a way that facilitates exploration of the complexities and a more detailed view of the bigger picture. The analytical process applied during the modeling stage of this project could be adapted to fit almost any structured dataset - all that is required is a little flexible thinking.\n",
    "\n",
    "Return: [Project Overview](ProjectOverview.ipynb)"
   ]
  }
 ],
 "metadata": {
  "kernelspec": {
   "display_name": "Python 3",
   "language": "python",
   "name": "python3"
  },
  "language_info": {
   "codemirror_mode": {
    "name": "ipython",
    "version": 3
   },
   "file_extension": ".py",
   "mimetype": "text/x-python",
   "name": "python",
   "nbconvert_exporter": "python",
   "pygments_lexer": "ipython3",
   "version": "3.8.6"
  }
 },
 "nbformat": 4,
 "nbformat_minor": 5
}
