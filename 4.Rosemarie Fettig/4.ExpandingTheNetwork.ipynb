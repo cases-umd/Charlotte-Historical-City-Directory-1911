{
 "cells": [
  {
   "cell_type": "markdown",
   "id": "fluid-athletics",
   "metadata": {},
   "source": [
    "# Expanding the Network: \n",
    "\n",
    "### Modeling Relationships in the 1911 Charlotte NC Directory in Neo4j\n",
    "    Contributors: Rosemarie Fettig\n",
    "    Source Available: https://archive.org/details/charlottenorthca1911pied\n",
    "    License: Creative Commons - Attribute 4.0 Intl\n",
    "    Attribution: This work is based upon digital assignments completed by MLIS Students in INST742: Implementing Digital Curation"
   ]
  },
  {
   "cell_type": "markdown",
   "id": "fed13e1e-1db7-4f5d-87f1-a2ed58ef02d9",
   "metadata": {
    "tags": []
   },
   "source": [
    "## 4. Expanding the Network: Modeling Relationships with Neo4j:\n",
    "* **Author:** Rosemarie Fettig\n",
    "* **Abstract:** Using a design-oriented approach to experiment with different data models for a graph database representing relationships between individuals listed in the 1911 Charlotte City Directory. \n",
    "* **Dataset:** 48 record modified subset of 1911 Charlotte City Directory. \n",
    "* **Tools:** Arrows.app, Microsoft Excel, Neo4j (Browser edition)\n",
    "* **Video:** https://youtu.be/CGJgXU0o-U8 (12′ 30″)"
   ]
  },
  {
   "cell_type": "markdown",
   "id": "economic-maple",
   "metadata": {},
   "source": [
    "## Project Overview\n",
    "\n",
    "This project seeks to explore how the use of different data models and structures can allow us to explore different aspects of a dataset. It takes as its core dataset the 1911 City Directory for Charlotte, North Carolina, which has been digitized and is available via the Internet Archive. Using this dataset, I sought to experiment with and exploit the flexibility of graph databases using the Neo4j database management system (DBMS). In theory, graph databases are easier to manipulate and remodel than relational databases (like those created using SQL). I wanted to see how radically I could change the result graph while making relatively few changes to the arrangement of the source data -  instead, I would change how I defined certain nodes and drew certain relationships.\n",
    "\n",
    "This project uses a smaller subset of the data - only 48 records - to serve as a proof of concept. I took a design oriented approach here, as I was more interested in experimenting with how we can push and pull this data around than with asking specific historical questions.  \"What would it look like if we did *THIS*?\" was the driving question behind this work."
   ]
  },
  {
   "cell_type": "markdown",
   "id": "adapted-asian",
   "metadata": {},
   "source": [
    "## Background on Source Data\n",
    "\n",
    "The Charlotte City Directory provides a highly structured dataset with information about people and places, resulting in a precise snapshot of city demographics at the moment of its creation in 1911. Although it is organized to focus on individual records, the amount of information provided makes it ripe for relationship analysis. By looking at the data through this lens, we can start to ask questions about relationships between individuals and between the attributes associated with them."
   ]
  },
  {
   "cell_type": "markdown",
   "id": "portuguese-assistant",
   "metadata": {},
   "source": [
    "## Computational Thinking Practices\n",
    "\n",
    "See [cases.umd.edu](https://cases.umd.edu/) for more information about the Computational Thinking Practices framework.\n",
    "\n",
    "* DP3 – Manipulating Data\n",
    "* MS4 – Designing Computational Models\n",
    "* MS5 – Constructing Computational Models\n",
    "* CPS7 – Troubleshooting and Debugging\n",
    "* ST2 - Understanding Relationships within Systems\n"
   ]
  },
  {
   "cell_type": "markdown",
   "id": "potential-calgary",
   "metadata": {},
   "source": [
    "# Tools Used\n",
    "\n",
    "* [Arrows.app](https://arrows.app/)\n",
    "* Microsoft Excel\n",
    "* [Neo4j (Browser edition)](https://neo4j.com/product/developer-tools/#browser)"
   ]
  },
  {
   "cell_type": "markdown",
   "id": "narrow-ontario",
   "metadata": {},
   "source": [
    "# Notebooks\n",
    "\n",
    "1. [Data Modeling](DataModeling.ipynb)\n",
    "2. [Database Creation](DatabaseCreation.ipynb)\n",
    "3. [Results](Results.ipynb)\n",
    "\n",
    "Next: [Data Modeling](DataModeling.ipynb)"
   ]
  }
 ],
 "metadata": {
  "kernelspec": {
   "display_name": "Python 3 (ipykernel)",
   "language": "python",
   "name": "python3"
  },
  "language_info": {
   "codemirror_mode": {
    "name": "ipython",
    "version": 3
   },
   "file_extension": ".py",
   "mimetype": "text/x-python",
   "name": "python",
   "nbconvert_exporter": "python",
   "pygments_lexer": "ipython3",
   "version": "3.11.5"
  }
 },
 "nbformat": 4,
 "nbformat_minor": 5
}
