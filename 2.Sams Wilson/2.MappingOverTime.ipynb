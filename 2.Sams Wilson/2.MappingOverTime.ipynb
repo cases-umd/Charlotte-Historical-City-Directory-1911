{
 "cells": [
  {
   "cell_type": "markdown",
   "id": "wicked-router",
   "metadata": {},
   "source": [
    "Sams Wilson, INST 742 Spring 2023\n",
    "\n",
    "## 2. Mapping Over Time in Charlotte NC: Population, Redlining, and Urban Renewal:\n",
    "* **Author:** Sams Wilson\n",
    "* **Abstract:** Understanding correlations of urban policies over time through the plotting plotting of 1911 Historical Directory address locations, using 1911, 1937, and 1972 data.\n",
    "* **Dataset:** Full datified Directory (16,000 entries), Mapping Inequality (1937  HOLC redlining map), 1972 Urban Renewal Map\n",
    "* **Tools:** QGIS, OpenRefine, Python (Pandas)\n",
    "* **Video:** https://youtu.be/9UWFnz-afqU (14′ 56″)\n",
    "\n",
    "\n",
    "### Project Overview\n",
    "\n",
    "For this project, I was originally inspired by [Mapping Inequality](https://dsl.richmond.edu/panorama/redlining/#loc=5/39.1/-94.58), an initiative that collects redlined maps from across the country and layers them on top of a map of the US as we know it today. While I'm admittedly not well read on redlining itself, I was curious to see if I could find any correlation between the dataset derived from the <a href=\"https://archive.org/details/charlottenorthca1911pied\">1911 Charlotte, NC city directory</a> and the zones assigned to the city of Charlotte in 1937 by the HOLC (Home Owners' Loan Corporation), the authority that developed the loan policy that came to be known as redlining. \n",
    "\n",
    "Specifically, I wanted to see to what extent racial and economic divisions that already existed in 1911 lined up with the zones developed by the HOLC 25 years later. Additionally, I wanted to see if these divisions persisted even further into the future when urban renewal came about in the 60's and 70's.\n",
    "\n",
    "To accomplish this, I plotted valid addresses from the 1911 Charlotte dataset (5,632 of them) into QGIS and overlayed a redlined map from 1937 and an urban renewal map from 1972. I used the redline map to add to my original dataset as well. \n",
    "\n",
    "Beyond seeing what observations I could make, I also wanted to see what the effect of visualizing data like this could be. There's something impactful about seeing divisions within a population in 1911 influence a city's development sixty years later. When a map shows people living in a neighborhood that you know is going to be made into a highway in the future, history feels a lot more personal and alive."
   ]
  },
  {
   "cell_type": "markdown",
   "id": "coated-bangkok",
   "metadata": {},
   "source": [
    "### Computational Thinking\n",
    "\n",
    "Data Practices - In this case almost all of the data had been supplied to me, except for one of the maps I used. So a lot of what I was doing was manipulating and visualizing data, seeing what it would look like when run through a prticular program. I did a little bit of creation at the end, but it's more like combining already existing data than true creation.\n",
    "- Manipulating Data\n",
    "- Visualizing Data\n",
    "- Creating Data\n",
    "\n",
    "Modeling and Simulation Practices - Using QGIS helped model the 1911 dataset in an interesting way, taking people out of a spreadsheet and showing where they actually lived. It was a challenge at first to design and construct what I actually wanted to do, but as I learned more about the program and its capabilities, things got easier.\n",
    "- Using Computational Models to Understand a Subject\n",
    "- Designing Computational Models\n",
    "- Constructing Computational Models\n",
    "\n",
    "Computational Problem Solving Practices - While I chose QGIS as my computational tool, there are probably better ones out there to tell a story using this data. There was a lot of troubleshooting that I had to work through, but it helped me beef up my understanding of the data and the software in the end. \n",
    "- Preparing Problems for Computational Solutions\n",
    "- Choosing Effective Computational Tools\n",
    "- Troubleshooting and Debugging\n",
    "\n",
    "Systems Thinking Practices - The benefit of using something like QGIS is that you can layer everything on top of each other, putting all the relationships between things right there in front of you. I have a couple examples of this when I show how everything was plotted in the next notebook. Jupyter Notebooks is also a helpful way to communicate information about the system. \n",
    "- Investigating Complex Systems as a Whole\n",
    "- Understanding the Relationships within a System\n",
    "- Thinking in Levels (or in this case, Layers)\n",
    "- Communicating Information about a System"
   ]
  },
  {
   "cell_type": "markdown",
   "id": "wired-encoding",
   "metadata": {},
   "source": [
    "## Notebooks\n",
    "* [2. Data](Data.ipynb)\n",
    "* [3. Maps, Dots, and Polygons](Maps_Dots_and_Polygons.ipynb)\n",
    "* [4. Challenges and Next Steps](Challenges_and_Next_Steps.ipynb)"
   ]
  }
 ],
 "metadata": {
  "kernelspec": {
   "display_name": "Python 3 (ipykernel)",
   "language": "python",
   "name": "python3"
  },
  "language_info": {
   "codemirror_mode": {
    "name": "ipython",
    "version": 3
   },
   "file_extension": ".py",
   "mimetype": "text/x-python",
   "name": "python",
   "nbconvert_exporter": "python",
   "pygments_lexer": "ipython3",
   "version": "3.11.5"
  }
 },
 "nbformat": 4,
 "nbformat_minor": 5
}
