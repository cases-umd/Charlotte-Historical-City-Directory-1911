{
 "cells": [
  {
   "cell_type": "markdown",
   "id": "sacred-shaft",
   "metadata": {},
   "source": [
    "# Religious Life in 1911 Charlotte, North Carolina\n",
    "### Using OpenRefine and Tableau to Tell a Data Story"
   ]
  },
  {
   "cell_type": "markdown",
   "id": "varying-stock",
   "metadata": {},
   "source": [
    "* Contributor: Mia Steinle\n",
    "* Data source: https://archive.org/details/charlottenorthca1911pied\n",
    "* License: [Creative Commons - Attribute 4.0 Intl](https://creativecommons.org/licenses/by/4.0/)\n",
    "* Attribution: This work is based upon digital assignments completed by MLIS Students in INST742: Implementing Digital Curation"
   ]
  },
  {
   "cell_type": "markdown",
   "id": "df15123d-aa77-4e6a-b4bc-be58ef2b23f6",
   "metadata": {
    "tags": []
   },
   "source": [
    "## 6. Religious Life in 1911 Charlotte, NC:\n",
    "* **Author:** Mia Steinle\n",
    "* **Abstract:** Identifying places of workshop using regular expressions in order to reveal places of worship by denomination and race with an emphasis on archival silences.\n",
    "* **Dataset:** Full datified Directory (16,000 entries), 1911 Sanborn map, 1910 Census\n",
    "* **Tools:** OpenRefine, Tableau\n",
    "* **Video:** https://youtu.be/uIbvZMRW_-I (11′ 10″)"
   ]
  },
  {
   "cell_type": "markdown",
   "id": "wicked-reviewer",
   "metadata": {},
   "source": [
    "***"
   ]
  },
  {
   "cell_type": "markdown",
   "id": "unauthorized-client",
   "metadata": {},
   "source": [
    "<h3> About this Exercise </h3>"
   ]
  },
  {
   "cell_type": "markdown",
   "id": "engaged-willow",
   "metadata": {},
   "source": [
    "While on first glance the 1911 Charlotte, North Carolina, city directory is simply a listing of people and businesses, it contains many stories. I took a .csv file of the directory's 15,700 entries — which had been extracted from scanned images of the directory using OCR — to look for stories about places of worship in Charlotte. After cleaning up and transforming the data in OpenRefine, I used Tableau Public to visualize the data. This series of notebooks explains that process, presents my findings from the data, and suggest an avenue for further research and data analysis.\n"
   ]
  },
  {
   "cell_type": "markdown",
   "id": "burning-cursor",
   "metadata": {},
   "source": [
    "<h3> Computational Thinking </h3>\n",
    "    "
   ]
  },
  {
   "cell_type": "markdown",
   "id": "oriented-frequency",
   "metadata": {},
   "source": [
    "This exercise utlizes the following elements of computational thinking: \n",
    "\n",
    "|Category|Element|Example|\n",
    "|--------|-------|------|\n",
    "|Data practices |Creating data    |Generating data about religious denominations in OpenRefine |\n",
    "|Data practices |Manipulating data|Sorting, filtering, and cleaning data in OpenRefine |  \n",
    "|Data practices |Analyzing data   |Looking for patterns using Tableau |\n",
    "|Data practices |Visualizing data |Creating charts and graphs in Tableau |\n",
    "|Computational problem-solving practices |Computer programming |Using markdown language and code to build this Notebook |\n",
    "|Computational problem-solving practices |Troubleshooting and debugging |Determing the right GREL expressions to use in OpenRefine |"
   ]
  },
  {
   "cell_type": "markdown",
   "id": "pressing-phoenix",
   "metadata": {},
   "source": [
    "<h3>Notebooks in this Series</h3>"
   ]
  },
  {
   "cell_type": "markdown",
   "id": "previous-suspect",
   "metadata": {},
   "source": [
    "1. [OpenRefine](OpenRefine.ipynb)\n",
    "2. [Tableau](Tableau.ipynb)\n",
    "3. [Next Steps](NextSteps.ipynb)"
   ]
  }
 ],
 "metadata": {
  "kernelspec": {
   "display_name": "Python 3 (ipykernel)",
   "language": "python",
   "name": "python3"
  },
  "language_info": {
   "codemirror_mode": {
    "name": "ipython",
    "version": 3
   },
   "file_extension": ".py",
   "mimetype": "text/x-python",
   "name": "python",
   "nbconvert_exporter": "python",
   "pygments_lexer": "ipython3",
   "version": "3.11.5"
  }
 },
 "nbformat": 4,
 "nbformat_minor": 5
}
