{
 "cells": [
  {
   "cell_type": "markdown",
   "id": "narrative-landscape",
   "metadata": {},
   "source": [
    "## Next Steps"
   ]
  },
  {
   "cell_type": "markdown",
   "id": "organizational-exemption",
   "metadata": {},
   "source": [
    "***"
   ]
  },
  {
   "cell_type": "markdown",
   "id": "sensitive-romantic",
   "metadata": {},
   "source": [
    "<h3>Address the Archival Silence<3>"
   ]
  },
  {
   "cell_type": "markdown",
   "id": "cardiac-titanium",
   "metadata": {},
   "source": [
    "While a city directory may seem like a definitive listing of people and businesses, this exercise shows the certain people and businesses were left out or not represented in the ways they would likely represent themselves. What stories can we find in the _American Jewish Yearbook_ that aren't in city directories?"
   ]
  },
  {
   "cell_type": "markdown",
   "id": "opposed-lincoln",
   "metadata": {},
   "source": [
    "__Step 1:__ Download the _1910 American Jewish Yearbook_ from the Internet Archive.\n",
    "* You can start with the [PDF version](https://ia600904.us.archive.org/12/items/americanjewishye5671adle/americanjewishye5671adle.pdf) and run it through an OCR application like ABBYY FineReader to extract the data yourself.\n",
    "* Or you can start with the Internet Archive's [txt file](https://ia800904.us.archive.org/12/items/americanjewishye5671adle/americanjewishye5671adle_djvu.txt), which has already gone through OCR.\n",
    "\n",
    "__Step 2:__ Load your dirty dataset into OpenRefine and start transforming. \n",
    "* Keep in mind the original book uses abbreviations and shorthand — don't mistake these for OCR errors. \n",
    "\n",
    "![Listing](Images/Listing.png)\n",
    "\n",
    "* Instead, look through the PDF file for keys to help you translate the data into plain English.\n",
    "\n",
    "![Abbrev](Images/Abbrev.png)\n",
    "\n",
    "* Remember to reuse GREL expressions (and regular expressions, if you'd like) that other people have already created to save time and avoid headaches.\n",
    "\n",
    "__Step 3:__ Visualize your clean dataset in Tableau Public and share it."
   ]
  }
 ],
 "metadata": {
  "kernelspec": {
   "display_name": "Python 3",
   "language": "python",
   "name": "python3"
  },
  "language_info": {
   "codemirror_mode": {
    "name": "ipython",
    "version": 3
   },
   "file_extension": ".py",
   "mimetype": "text/x-python",
   "name": "python",
   "nbconvert_exporter": "python",
   "pygments_lexer": "ipython3",
   "version": "3.8.6"
  }
 },
 "nbformat": 4,
 "nbformat_minor": 5
}
