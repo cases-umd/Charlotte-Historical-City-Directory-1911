{
 "cells": [
  {
   "cell_type": "markdown",
   "id": "attended-mineral",
   "metadata": {},
   "source": [
    "## Tableau"
   ]
  },
  {
   "cell_type": "markdown",
   "id": "intense-terrace",
   "metadata": {},
   "source": [
    "***"
   ]
  },
  {
   "cell_type": "markdown",
   "id": "plastic-paraguay",
   "metadata": {},
   "source": [
    "<h3>What I Visualized</h3>"
   ]
  },
  {
   "cell_type": "markdown",
   "id": "guilty-commerce",
   "metadata": {},
   "source": [
    "To better analyze the data I transformed in OpenRefine, I uploaded the [CharlotteClean](https://cases.umd.edu/user/mialsteinle/doc/tree/mialsteinle/Data/CharlotteClean.csv) csv file into Tableau Public and began creating data visualizations. These are my findings:\n",
    "\n",
    "* There were 71 churches in Charlotte in 1911, include 41 white churches and 30 Black churches.\n",
    "* While Charlotte's human population was 34% Black, its church population was 42% Black.\n",
    "* Methodist, Presbyterian, and Baptist congregations comprised 70% of all churches.\n",
    "* Methodist was the most common denomination among Black congregations, while Presbyterian was the most common denomination among white congregations."
   ]
  },
  {
   "cell_type": "markdown",
   "id": "written-bench",
   "metadata": {},
   "source": [
    "<h3>What I Couldn't Visualize</h3>"
   ]
  },
  {
   "cell_type": "markdown",
   "id": "prostate-stanley",
   "metadata": {},
   "source": [
    "While I did query the data for places of worship other than churches, I didn't find any. But that's not to say there no people practicing non-Christian religions in Charlotte in 1911.\n",
    "\n",
    "My research lead me to directories — similar to the Charlotte City Directory — of Jewish organizations in the United States in the early 20th century. The _[American Jewish Yearbook](https://archive.org/details/americanjewishye5671adle/mode/2up)_, which is available on the Internet Archive, shows us that Charlotte was home to a Jewish organization in 1910 called the Hebrew United Brotherhood. This organization got a building and became the city's first synagogue in 1916. If we look at the [1922 Charlotte City Directory](https://archive.org/details/charlottenorthca1922pied), we can see a listing for the Hebrew United Brotherhood listed under the directory's \"Associations and Societies\" section. The information is there, but only if you know to look for it."
   ]
  },
  {
   "cell_type": "markdown",
   "id": "violent-february",
   "metadata": {},
   "source": [
    "<h3>See the Full Tableau Story Below</h3>"
   ]
  },
  {
   "cell_type": "markdown",
   "id": "remarkable-complement",
   "metadata": {},
   "source": [
    "Click through to read the story. Hover over visualizations to learn more about the data."
   ]
  },
  {
   "cell_type": "markdown",
   "id": "effcf4f5-bad1-4071-a383-cf5e250ff8d9",
   "metadata": {
    "tags": []
   },
   "source": [
    "<div class='tableauPlaceholder' id='viz1706587164388' style='position: relative'><noscript><a href='#'><img alt='Churches in Charlotte, North Carolina, 1911 ' src='https://public.tableau.com/static/images/YZ/YZMTK8C2T/1.png' style='border: none' /></a></noscript><object class='tableauViz'  style='display:none;'><param name='host_url' value='https://public.tableau.com/' /> <param name='embed_code_version' value='3' /> <param name='path' value='shared/YZMTK8C2T' /> <param name='toolbar' value='yes' /><param name='static_image' value='https://public.tableau.com/static/images/YZ/YZMTK8C2T/1.png' /> <param name='animate_transition' value='yes' /><param name='display_static_image' value='yes' /><param name='display_spinner' value='yes' /><param name='display_overlay' value='yes' /><param name='display_count' value='yes' /><param name='language' value='en-US' /><param name='filter' value='language=en-US' /><param name='filter' value='publish=yes' /><param name='origin' value='viz_share_link' /></object></div>                <script type='text/javascript'>                    var divElement = document.getElementById('viz1706587164388');                    var vizElement = divElement.getElementsByTagName('object')[0];                    vizElement.style.width='1016px';vizElement.style.height='991px';                    var scriptElement = document.createElement('script');                    scriptElement.src = 'https://public.tableau.com/javascripts/api/viz_v1.js';                    vizElement.parentNode.insertBefore(scriptElement, vizElement);                </script>"
   ]
  },
  {
   "cell_type": "markdown",
   "id": "ef15c79c-2114-4f42-aedd-03272e331528",
   "metadata": {},
   "source": [
    "[Churches in Charlotte 1911](https://public.tableau.com/app/profile/mia.steinle/viz/ChurchesinCharlotte1911/Story1?language=en-US&publish=yes&:display_count=n&:origin=viz_share_link) "
   ]
  },
  {
   "cell_type": "markdown",
   "id": "hollow-charles",
   "metadata": {},
   "source": [
    "Next: [Next Steps](NextSteps.ipynb)"
   ]
  }
 ],
 "metadata": {
  "kernelspec": {
   "display_name": "Python 3 (ipykernel)",
   "language": "python",
   "name": "python3"
  },
  "language_info": {
   "codemirror_mode": {
    "name": "ipython",
    "version": 3
   },
   "file_extension": ".py",
   "mimetype": "text/x-python",
   "name": "python",
   "nbconvert_exporter": "python",
   "pygments_lexer": "ipython3",
   "version": "3.11.5"
  }
 },
 "nbformat": 4,
 "nbformat_minor": 5
}
